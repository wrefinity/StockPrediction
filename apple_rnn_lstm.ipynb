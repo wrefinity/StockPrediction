{
 "cells": [
  {
   "cell_type": "code",
   "execution_count": 245,
   "id": "1e97dc03",
   "metadata": {},
   "outputs": [],
   "source": [
    "# !pip install plotly tensorflow"
   ]
  },
  {
   "cell_type": "code",
   "execution_count": 1,
   "id": "9e8945b4",
   "metadata": {},
   "outputs": [
    {
     "data": {
      "text/html": [
       "        <script type=\"text/javascript\">\n",
       "        window.PlotlyConfig = {MathJaxConfig: 'local'};\n",
       "        if (window.MathJax && window.MathJax.Hub && window.MathJax.Hub.Config) {window.MathJax.Hub.Config({SVG: {font: \"STIX-Web\"}});}\n",
       "        if (typeof require !== 'undefined') {\n",
       "        require.undef(\"plotly\");\n",
       "        requirejs.config({\n",
       "            paths: {\n",
       "                'plotly': ['https://cdn.plot.ly/plotly-2.16.1.min']\n",
       "            }\n",
       "        });\n",
       "        require(['plotly'], function(Plotly) {\n",
       "            window._Plotly = Plotly;\n",
       "        });\n",
       "        }\n",
       "        </script>\n",
       "        "
      ]
     },
     "metadata": {},
     "output_type": "display_data"
    }
   ],
   "source": [
    "import pandas as pd \n",
    "import numpy as np\n",
    "import math\n",
    "from matplotlib import pyplot as plt\n",
    "import matplotlib.pyplot as plt\n",
    "from matplotlib.ticker import (MultipleLocator, FormatStrFormatter,\n",
    "                               AutoMinorLocator)\n",
    "import matplotlib.dates as mdates\n",
    "%matplotlib inline\n",
    "from sklearn.preprocessing import MinMaxScaler\n",
    "from sklearn.model_selection import train_test_split\n",
    "import seaborn as sns\n",
    "from sklearn.metrics import r2_score, mean_squared_error, mean_absolute_error\n",
    "\n",
    "\n",
    "from plotly.subplots import make_subplots\n",
    "import plotly.graph_objects as go\n",
    "from plotly.offline import init_notebook_mode\n",
    "init_notebook_mode(connected=True)\n",
    "\n",
    "from tensorflow.keras.models import Sequential\n",
    "from tensorflow.keras.layers import LSTM, Flatten, Dense, Dropout, SimpleRNN\n",
    "import tensorflow as tf\n",
    "import math"
   ]
  },
  {
   "cell_type": "code",
   "execution_count": 2,
   "id": "751ec696",
   "metadata": {},
   "outputs": [],
   "source": [
    "df = pd.read_csv('AAPL.csv')"
   ]
  },
  {
   "cell_type": "code",
   "execution_count": 3,
   "id": "8c02942e",
   "metadata": {},
   "outputs": [
    {
     "data": {
      "text/html": [
       "<div>\n",
       "<style scoped>\n",
       "    .dataframe tbody tr th:only-of-type {\n",
       "        vertical-align: middle;\n",
       "    }\n",
       "\n",
       "    .dataframe tbody tr th {\n",
       "        vertical-align: top;\n",
       "    }\n",
       "\n",
       "    .dataframe thead th {\n",
       "        text-align: right;\n",
       "    }\n",
       "</style>\n",
       "<table border=\"1\" class=\"dataframe\">\n",
       "  <thead>\n",
       "    <tr style=\"text-align: right;\">\n",
       "      <th></th>\n",
       "      <th>Date</th>\n",
       "      <th>Open</th>\n",
       "      <th>High</th>\n",
       "      <th>Low</th>\n",
       "      <th>Close</th>\n",
       "      <th>Adj Close</th>\n",
       "      <th>Volume</th>\n",
       "    </tr>\n",
       "  </thead>\n",
       "  <tbody>\n",
       "    <tr>\n",
       "      <th>0</th>\n",
       "      <td>1980-12-12</td>\n",
       "      <td>0.128348</td>\n",
       "      <td>0.128906</td>\n",
       "      <td>0.128348</td>\n",
       "      <td>0.128348</td>\n",
       "      <td>0.100600</td>\n",
       "      <td>469033600</td>\n",
       "    </tr>\n",
       "    <tr>\n",
       "      <th>1</th>\n",
       "      <td>1980-12-15</td>\n",
       "      <td>0.122210</td>\n",
       "      <td>0.122210</td>\n",
       "      <td>0.121652</td>\n",
       "      <td>0.121652</td>\n",
       "      <td>0.095352</td>\n",
       "      <td>175884800</td>\n",
       "    </tr>\n",
       "    <tr>\n",
       "      <th>2</th>\n",
       "      <td>1980-12-16</td>\n",
       "      <td>0.113281</td>\n",
       "      <td>0.113281</td>\n",
       "      <td>0.112723</td>\n",
       "      <td>0.112723</td>\n",
       "      <td>0.088353</td>\n",
       "      <td>105728000</td>\n",
       "    </tr>\n",
       "    <tr>\n",
       "      <th>3</th>\n",
       "      <td>1980-12-17</td>\n",
       "      <td>0.115513</td>\n",
       "      <td>0.116071</td>\n",
       "      <td>0.115513</td>\n",
       "      <td>0.115513</td>\n",
       "      <td>0.090540</td>\n",
       "      <td>86441600</td>\n",
       "    </tr>\n",
       "    <tr>\n",
       "      <th>4</th>\n",
       "      <td>1980-12-18</td>\n",
       "      <td>0.118862</td>\n",
       "      <td>0.119420</td>\n",
       "      <td>0.118862</td>\n",
       "      <td>0.118862</td>\n",
       "      <td>0.093165</td>\n",
       "      <td>73449600</td>\n",
       "    </tr>\n",
       "    <tr>\n",
       "      <th>5</th>\n",
       "      <td>1980-12-19</td>\n",
       "      <td>0.126116</td>\n",
       "      <td>0.126674</td>\n",
       "      <td>0.126116</td>\n",
       "      <td>0.126116</td>\n",
       "      <td>0.098851</td>\n",
       "      <td>48630400</td>\n",
       "    </tr>\n",
       "    <tr>\n",
       "      <th>6</th>\n",
       "      <td>1980-12-22</td>\n",
       "      <td>0.132254</td>\n",
       "      <td>0.132813</td>\n",
       "      <td>0.132254</td>\n",
       "      <td>0.132254</td>\n",
       "      <td>0.103662</td>\n",
       "      <td>37363200</td>\n",
       "    </tr>\n",
       "    <tr>\n",
       "      <th>7</th>\n",
       "      <td>1980-12-23</td>\n",
       "      <td>0.137835</td>\n",
       "      <td>0.138393</td>\n",
       "      <td>0.137835</td>\n",
       "      <td>0.137835</td>\n",
       "      <td>0.108036</td>\n",
       "      <td>46950400</td>\n",
       "    </tr>\n",
       "    <tr>\n",
       "      <th>8</th>\n",
       "      <td>1980-12-24</td>\n",
       "      <td>0.145089</td>\n",
       "      <td>0.145647</td>\n",
       "      <td>0.145089</td>\n",
       "      <td>0.145089</td>\n",
       "      <td>0.113722</td>\n",
       "      <td>48003200</td>\n",
       "    </tr>\n",
       "    <tr>\n",
       "      <th>9</th>\n",
       "      <td>1980-12-26</td>\n",
       "      <td>0.158482</td>\n",
       "      <td>0.159040</td>\n",
       "      <td>0.158482</td>\n",
       "      <td>0.158482</td>\n",
       "      <td>0.124219</td>\n",
       "      <td>55574400</td>\n",
       "    </tr>\n",
       "  </tbody>\n",
       "</table>\n",
       "</div>"
      ],
      "text/plain": [
       "         Date      Open      High       Low     Close  Adj Close     Volume\n",
       "0  1980-12-12  0.128348  0.128906  0.128348  0.128348   0.100600  469033600\n",
       "1  1980-12-15  0.122210  0.122210  0.121652  0.121652   0.095352  175884800\n",
       "2  1980-12-16  0.113281  0.113281  0.112723  0.112723   0.088353  105728000\n",
       "3  1980-12-17  0.115513  0.116071  0.115513  0.115513   0.090540   86441600\n",
       "4  1980-12-18  0.118862  0.119420  0.118862  0.118862   0.093165   73449600\n",
       "5  1980-12-19  0.126116  0.126674  0.126116  0.126116   0.098851   48630400\n",
       "6  1980-12-22  0.132254  0.132813  0.132254  0.132254   0.103662   37363200\n",
       "7  1980-12-23  0.137835  0.138393  0.137835  0.137835   0.108036   46950400\n",
       "8  1980-12-24  0.145089  0.145647  0.145089  0.145089   0.113722   48003200\n",
       "9  1980-12-26  0.158482  0.159040  0.158482  0.158482   0.124219   55574400"
      ]
     },
     "execution_count": 3,
     "metadata": {},
     "output_type": "execute_result"
    }
   ],
   "source": [
    "df.head(10)"
   ]
  },
  {
   "cell_type": "code",
   "execution_count": 4,
   "id": "492147a0",
   "metadata": {},
   "outputs": [
    {
     "name": "stdout",
     "output_type": "stream",
     "text": [
      "<class 'pandas.core.frame.DataFrame'>\n",
      "RangeIndex: 10272 entries, 0 to 10271\n",
      "Data columns (total 7 columns):\n",
      " #   Column     Non-Null Count  Dtype  \n",
      "---  ------     --------------  -----  \n",
      " 0   Date       10272 non-null  object \n",
      " 1   Open       10272 non-null  float64\n",
      " 2   High       10272 non-null  float64\n",
      " 3   Low        10272 non-null  float64\n",
      " 4   Close      10272 non-null  float64\n",
      " 5   Adj Close  10272 non-null  float64\n",
      " 6   Volume     10272 non-null  int64  \n",
      "dtypes: float64(5), int64(1), object(1)\n",
      "memory usage: 561.9+ KB\n"
     ]
    }
   ],
   "source": [
    "df.info()"
   ]
  },
  {
   "cell_type": "code",
   "execution_count": 20,
   "id": "7db33b4e",
   "metadata": {},
   "outputs": [
    {
     "data": {
      "text/plain": [
       "False"
      ]
     },
     "execution_count": 20,
     "metadata": {},
     "output_type": "execute_result"
    }
   ],
   "source": [
    "df.isnull().sum().any()"
   ]
  },
  {
   "cell_type": "code",
   "execution_count": 21,
   "id": "d400ffd1",
   "metadata": {},
   "outputs": [
    {
     "data": {
      "text/html": [
       "<div>\n",
       "<style scoped>\n",
       "    .dataframe tbody tr th:only-of-type {\n",
       "        vertical-align: middle;\n",
       "    }\n",
       "\n",
       "    .dataframe tbody tr th {\n",
       "        vertical-align: top;\n",
       "    }\n",
       "\n",
       "    .dataframe thead th {\n",
       "        text-align: right;\n",
       "    }\n",
       "</style>\n",
       "<table border=\"1\" class=\"dataframe\">\n",
       "  <thead>\n",
       "    <tr style=\"text-align: right;\">\n",
       "      <th></th>\n",
       "      <th>High</th>\n",
       "      <th>Low</th>\n",
       "      <th>Close</th>\n",
       "    </tr>\n",
       "  </thead>\n",
       "  <tbody>\n",
       "    <tr>\n",
       "      <th>count</th>\n",
       "      <td>10272.000000</td>\n",
       "      <td>10272.000000</td>\n",
       "      <td>10272.000000</td>\n",
       "    </tr>\n",
       "    <tr>\n",
       "      <th>mean</th>\n",
       "      <td>12.134860</td>\n",
       "      <td>11.877629</td>\n",
       "      <td>12.011191</td>\n",
       "    </tr>\n",
       "    <tr>\n",
       "      <th>std</th>\n",
       "      <td>25.388548</td>\n",
       "      <td>24.833693</td>\n",
       "      <td>25.123982</td>\n",
       "    </tr>\n",
       "    <tr>\n",
       "      <th>min</th>\n",
       "      <td>0.049665</td>\n",
       "      <td>0.049107</td>\n",
       "      <td>0.049107</td>\n",
       "    </tr>\n",
       "    <tr>\n",
       "      <th>25%</th>\n",
       "      <td>0.284375</td>\n",
       "      <td>0.270089</td>\n",
       "      <td>0.276964</td>\n",
       "    </tr>\n",
       "    <tr>\n",
       "      <th>50%</th>\n",
       "      <td>0.464286</td>\n",
       "      <td>0.446987</td>\n",
       "      <td>0.455357</td>\n",
       "    </tr>\n",
       "    <tr>\n",
       "      <th>75%</th>\n",
       "      <td>12.825715</td>\n",
       "      <td>12.579017</td>\n",
       "      <td>12.687143</td>\n",
       "    </tr>\n",
       "    <tr>\n",
       "      <th>max</th>\n",
       "      <td>157.259995</td>\n",
       "      <td>154.389999</td>\n",
       "      <td>156.690002</td>\n",
       "    </tr>\n",
       "  </tbody>\n",
       "</table>\n",
       "</div>"
      ],
      "text/plain": [
       "               High           Low         Close\n",
       "count  10272.000000  10272.000000  10272.000000\n",
       "mean      12.134860     11.877629     12.011191\n",
       "std       25.388548     24.833693     25.123982\n",
       "min        0.049665      0.049107      0.049107\n",
       "25%        0.284375      0.270089      0.276964\n",
       "50%        0.464286      0.446987      0.455357\n",
       "75%       12.825715     12.579017     12.687143\n",
       "max      157.259995    154.389999    156.690002"
      ]
     },
     "execution_count": 21,
     "metadata": {},
     "output_type": "execute_result"
    }
   ],
   "source": [
    "df.describe()"
   ]
  },
  {
   "cell_type": "code",
   "execution_count": 22,
   "id": "c45a6def",
   "metadata": {},
   "outputs": [
    {
     "data": {
      "text/plain": [
       "(10272, 3)"
      ]
     },
     "execution_count": 22,
     "metadata": {},
     "output_type": "execute_result"
    }
   ],
   "source": [
    "df.shape"
   ]
  },
  {
   "cell_type": "code",
   "execution_count": 23,
   "id": "2a3da669",
   "metadata": {},
   "outputs": [
    {
     "data": {
      "text/plain": [
       "High     float64\n",
       "Low      float64\n",
       "Close    float64\n",
       "dtype: object"
      ]
     },
     "execution_count": 23,
     "metadata": {},
     "output_type": "execute_result"
    }
   ],
   "source": [
    "df.dtypes"
   ]
  },
  {
   "cell_type": "code",
   "execution_count": 24,
   "id": "d6ee04d9",
   "metadata": {},
   "outputs": [
    {
     "ename": "AttributeError",
     "evalue": "'DataFrame' object has no attribute 'Date'",
     "output_type": "error",
     "traceback": [
      "\u001b[1;31m---------------------------------------------------------------------------\u001b[0m",
      "\u001b[1;31mAttributeError\u001b[0m                            Traceback (most recent call last)",
      "\u001b[1;32mC:\\Users\\WRASH-~1\\AppData\\Local\\Temp/ipykernel_20920/2161560498.py\u001b[0m in \u001b[0;36m<module>\u001b[1;34m\u001b[0m\n\u001b[1;32m----> 1\u001b[1;33m \u001b[0mdf\u001b[0m\u001b[1;33m[\u001b[0m\u001b[1;34m\"Date\"\u001b[0m\u001b[1;33m]\u001b[0m\u001b[1;33m=\u001b[0m\u001b[0mpd\u001b[0m\u001b[1;33m.\u001b[0m\u001b[0mto_datetime\u001b[0m\u001b[1;33m(\u001b[0m\u001b[0mdf\u001b[0m\u001b[1;33m.\u001b[0m\u001b[0mDate\u001b[0m\u001b[1;33m,\u001b[0m \u001b[0mdayfirst\u001b[0m\u001b[1;33m=\u001b[0m\u001b[1;32mTrue\u001b[0m\u001b[1;33m)\u001b[0m\u001b[1;33m\u001b[0m\u001b[1;33m\u001b[0m\u001b[0m\n\u001b[0m\u001b[0;32m      2\u001b[0m \u001b[0mdf\u001b[0m\u001b[1;33m.\u001b[0m\u001b[0mset_index\u001b[0m\u001b[1;33m(\u001b[0m\u001b[1;34m\"Date\"\u001b[0m\u001b[1;33m,\u001b[0m\u001b[0minplace\u001b[0m\u001b[1;33m=\u001b[0m\u001b[1;32mTrue\u001b[0m\u001b[1;33m)\u001b[0m\u001b[1;33m\u001b[0m\u001b[1;33m\u001b[0m\u001b[0m\n\u001b[0;32m      3\u001b[0m \u001b[0mdf\u001b[0m\u001b[1;33m\u001b[0m\u001b[1;33m\u001b[0m\u001b[0m\n",
      "\u001b[1;32m~\\anaconda3\\lib\\site-packages\\pandas\\core\\generic.py\u001b[0m in \u001b[0;36m__getattr__\u001b[1;34m(self, name)\u001b[0m\n\u001b[0;32m   5485\u001b[0m         ):\n\u001b[0;32m   5486\u001b[0m             \u001b[1;32mreturn\u001b[0m \u001b[0mself\u001b[0m\u001b[1;33m[\u001b[0m\u001b[0mname\u001b[0m\u001b[1;33m]\u001b[0m\u001b[1;33m\u001b[0m\u001b[1;33m\u001b[0m\u001b[0m\n\u001b[1;32m-> 5487\u001b[1;33m         \u001b[1;32mreturn\u001b[0m \u001b[0mobject\u001b[0m\u001b[1;33m.\u001b[0m\u001b[0m__getattribute__\u001b[0m\u001b[1;33m(\u001b[0m\u001b[0mself\u001b[0m\u001b[1;33m,\u001b[0m \u001b[0mname\u001b[0m\u001b[1;33m)\u001b[0m\u001b[1;33m\u001b[0m\u001b[1;33m\u001b[0m\u001b[0m\n\u001b[0m\u001b[0;32m   5488\u001b[0m \u001b[1;33m\u001b[0m\u001b[0m\n\u001b[0;32m   5489\u001b[0m     \u001b[1;32mdef\u001b[0m \u001b[0m__setattr__\u001b[0m\u001b[1;33m(\u001b[0m\u001b[0mself\u001b[0m\u001b[1;33m,\u001b[0m \u001b[0mname\u001b[0m\u001b[1;33m:\u001b[0m \u001b[0mstr\u001b[0m\u001b[1;33m,\u001b[0m \u001b[0mvalue\u001b[0m\u001b[1;33m)\u001b[0m \u001b[1;33m->\u001b[0m \u001b[1;32mNone\u001b[0m\u001b[1;33m:\u001b[0m\u001b[1;33m\u001b[0m\u001b[1;33m\u001b[0m\u001b[0m\n",
      "\u001b[1;31mAttributeError\u001b[0m: 'DataFrame' object has no attribute 'Date'"
     ]
    }
   ],
   "source": [
    "df[\"Date\"]=pd.to_datetime(df.Date, dayfirst=True)\n",
    "df.set_index(\"Date\",inplace=True)\n",
    "df"
   ]
  },
  {
   "cell_type": "code",
   "execution_count": null,
   "id": "903ad31d",
   "metadata": {},
   "outputs": [],
   "source": [
    "# Data Correlation: Relationship between columns\n",
    "df.corr()"
   ]
  },
  {
   "cell_type": "code",
   "execution_count": null,
   "id": "939466b7",
   "metadata": {},
   "outputs": [],
   "source": [
    "# Visualization of correlation result with seaborn library heatmap.\n",
    "f, ax = plt.subplots(figsize = (5,5))\n",
    "sns.heatmap(df.corr(), annot = True, linewidths=0.5, linecolor = \"black\", fmt = \".4f\", ax = ax)\n",
    "plt.show()"
   ]
  },
  {
   "cell_type": "code",
   "execution_count": null,
   "id": "06aad72f",
   "metadata": {},
   "outputs": [],
   "source": [
    "plt.figure(figsize=(16,10))\n",
    "\n",
    "plt.title('Closing price history')\n",
    "plt.plot(df['Close'],label='prices', color='purple')\n",
    "# plt.plot(df_dp['Date'],df_dp['Close'],label='Max Temp.')\n",
    "plt.legend()\n",
    "####### Use the below functions #######\n",
    "dtFmt = mdates.DateFormatter('%Y-%b') # define the formatting\n",
    "plt.gca().xaxis.set_major_formatter(dtFmt) # apply the format to the desired axis\n",
    "plt.show()"
   ]
  },
  {
   "cell_type": "code",
   "execution_count": null,
   "id": "6fee5e14",
   "metadata": {},
   "outputs": [],
   "source": [
    "df.columns"
   ]
  },
  {
   "cell_type": "code",
   "execution_count": null,
   "id": "17fb5d95",
   "metadata": {},
   "outputs": [],
   "source": [
    "# dft = df.copy()\n",
    "col_to_keep = ['Close', 'High', 'Low', ]\n",
    "\n",
    "for col in df.columns:\n",
    "    if col not in col_to_keep:\n",
    "        del df[col]"
   ]
  },
  {
   "cell_type": "code",
   "execution_count": null,
   "id": "a824249b",
   "metadata": {},
   "outputs": [],
   "source": [
    "df.plot.line(subplots=True, title='Stock Prices')\n",
    "df.plot.line(title='Stock Prices')"
   ]
  },
  {
   "cell_type": "code",
   "execution_count": 25,
   "id": "0d2c8282",
   "metadata": {},
   "outputs": [],
   "source": [
    "data = df.filter(['Close'])\n",
    "dataset = data.values"
   ]
  },
  {
   "cell_type": "code",
   "execution_count": 26,
   "id": "2e480d9c",
   "metadata": {},
   "outputs": [
    {
     "data": {
      "text/plain": [
       "array([[1.28348000e-01],\n",
       "       [1.21652000e-01],\n",
       "       [1.12723000e-01],\n",
       "       ...,\n",
       "       [1.54300003e+02],\n",
       "       [1.56690002e+02],\n",
       "       [1.55110001e+02]])"
      ]
     },
     "execution_count": 26,
     "metadata": {},
     "output_type": "execute_result"
    }
   ],
   "source": [
    "dataset"
   ]
  },
  {
   "cell_type": "code",
   "execution_count": 27,
   "id": "408aafd6",
   "metadata": {},
   "outputs": [
    {
     "data": {
      "text/plain": [
       "7704"
      ]
     },
     "execution_count": 27,
     "metadata": {},
     "output_type": "execute_result"
    }
   ],
   "source": [
    "# train_app_len = int(dfa.shape[0]*0.75)\n",
    "train_len = math.ceil(len(df)*.75)\n",
    "train_len"
   ]
  },
  {
   "cell_type": "code",
   "execution_count": 28,
   "id": "c159d984",
   "metadata": {},
   "outputs": [],
   "source": [
    "ms = MinMaxScaler(feature_range=(0,1))\n",
    "scaled_df = ms.fit_transform(dataset)"
   ]
  },
  {
   "cell_type": "code",
   "execution_count": 29,
   "id": "15858ab0",
   "metadata": {},
   "outputs": [],
   "source": [
    "# creating the training dataset\n",
    "train_df = scaled_df[0:train_len, :]\n",
    "X_train, y_train= [], []\n",
    "\n",
    "for x in range(60, len(train_df)):\n",
    "    X_train.append(train_df[x-60:x, 0])\n",
    "    y_train.append(train_df[x, 0])"
   ]
  },
  {
   "cell_type": "code",
   "execution_count": 30,
   "id": "e70efe57",
   "metadata": {},
   "outputs": [],
   "source": [
    "X_train=np.array(X_train)\n",
    "y_train=np.array(y_train)"
   ]
  },
  {
   "cell_type": "code",
   "execution_count": 31,
   "id": "4d0c6a9e",
   "metadata": {},
   "outputs": [],
   "source": [
    "X_train = np.reshape(X_train, (X_train.shape[0], X_train.shape[1], 1))"
   ]
  },
  {
   "cell_type": "code",
   "execution_count": 32,
   "id": "4316fae6",
   "metadata": {},
   "outputs": [
    {
     "data": {
      "text/plain": [
       "(7644, 60, 1)"
      ]
     },
     "execution_count": 32,
     "metadata": {},
     "output_type": "execute_result"
    }
   ],
   "source": [
    "X_train.shape"
   ]
  },
  {
   "cell_type": "code",
   "execution_count": 33,
   "id": "dbff336c",
   "metadata": {},
   "outputs": [],
   "source": [
    "def plot_scaled(dfd, title):\n",
    "    plt.plot(dfd)\n",
    "    plt.ylabel(\"Price\")\n",
    "    plt.xlabel(\"Time(Days)\")\n",
    "    plt.title(f\"{title} Stock Data\")\n",
    "    plt.show()"
   ]
  },
  {
   "cell_type": "code",
   "execution_count": 34,
   "id": "e03cde4c",
   "metadata": {},
   "outputs": [
    {
     "data": {
      "image/png": "[encoded data removed]",
      "text/plain": [
       "<Figure size 432x288 with 1 Axes>"
      ]
     },
     "metadata": {
      "needs_background": "light"
     },
     "output_type": "display_data"
    }
   ],
   "source": [
    "plot_scaled(train_df, title=\"Apple\")"
   ]
  },
  {
   "cell_type": "markdown",
   "id": "ce9dfb68",
   "metadata": {},
   "source": [
    "# Model Definition"
   ]
  },
  {
   "cell_type": "code",
   "execution_count": 35,
   "id": "dd404532",
   "metadata": {},
   "outputs": [],
   "source": [
    "def RNNMODEL(X_train=[], Y_train=[]):\n",
    "    # Initialising the RNN\n",
    "    regressor = Sequential()\n",
    "\n",
    "    # Add the first RNN layer and some Dropout regularisation\n",
    "    regressor.add(SimpleRNN(units = 50, activation = \"tanh\", return_sequences = True, input_shape = (X_train.shape[1], 1)))\n",
    "    regressor.add(Dropout(0.2))\n",
    "\n",
    "    # Second RNN layer and some Dropout regularisation\n",
    "    regressor.add(SimpleRNN(units = 50, activation = \"tanh\", return_sequences = True))\n",
    "    regressor.add(Dropout(0.2))\n",
    "\n",
    "    # Third RNN layer and some Dropout regularisation\n",
    "    regressor.add(SimpleRNN(units = 50, activation = \"tanh\", return_sequences = True))\n",
    "    regressor.add(Dropout(0.2))\n",
    "\n",
    "    # Fourth RNN layer and some Dropout regularisation\n",
    "    regressor.add(SimpleRNN(units = 50))\n",
    "    regressor.add(Dropout(0.2))\n",
    "\n",
    "    # Add the output layer\n",
    "    regressor.add(Dense(units = 1))\n",
    "\n",
    "    # Compiling the RNN\n",
    "    regressor.compile(optimizer = \"adam\", loss = \"mean_squared_error\")\n",
    "    regressor.summary()\n",
    "\n",
    "    # Fitting the RNN to the training set\n",
    "    regressor.fit(X_train, Y_train, epochs = 100, batch_size = 32)\n",
    "    \n",
    "    return regressor"
   ]
  },
  {
   "cell_type": "code",
   "execution_count": 303,
   "id": "82376fcc",
   "metadata": {},
   "outputs": [],
   "source": [
    "def LSTMMODEL(X_train=[], Y_train=[]): \n",
    "    model = Sequential()\n",
    "    model.add(LSTM(50, return_sequences=True, input_shape=(X_train.shape[1], 1),  activation='tanh'))\n",
    "    model.add(Dropout(0.2))\n",
    "    model.add(LSTM(50,  return_sequences=False,  activation='tanh'))\n",
    "    model.add(Dropout(0.2))\n",
    "    model.add(Dense(25,  activation='tanh'))\n",
    "    model.add(Dropout(0.2))\n",
    "    model.add(Dense(1))\n",
    "    model.compile(optimizer = 'adam', loss = 'mean_squared_error')\n",
    "    model.summary()\n",
    "#     model.fit(X_tr, X_tr, epochs=1, batch_size=1)\n",
    "    \n",
    "    model.fit(X_train, Y_train, epochs=100, batch_size=32)\n",
    "    return model"
   ]
  },
  {
   "cell_type": "markdown",
   "id": "7adc029b",
   "metadata": {},
   "source": [
    "# RNN ANALYSIS"
   ]
  },
  {
   "cell_type": "code",
   "execution_count": 36,
   "id": "890fcdd9",
   "metadata": {},
   "outputs": [
    {
     "name": "stdout",
     "output_type": "stream",
     "text": [
      "Model: \"sequential\"\n",
      "_________________________________________________________________\n",
      " Layer (type)                Output Shape              Param #   \n",
      "=================================================================\n",
      " simple_rnn (SimpleRNN)      (None, 60, 50)            2600      \n",
      "                                                                 \n",
      " dropout (Dropout)           (None, 60, 50)            0         \n",
      "                                                                 \n",
      " simple_rnn_1 (SimpleRNN)    (None, 60, 50)            5050      \n",
      "                                                                 \n",
      " dropout_1 (Dropout)         (None, 60, 50)            0         \n",
      "                                                                 \n",
      " simple_rnn_2 (SimpleRNN)    (None, 60, 50)            5050      \n",
      "                                                                 \n",
      " dropout_2 (Dropout)         (None, 60, 50)            0         \n",
      "                                                                 \n",
      " simple_rnn_3 (SimpleRNN)    (None, 50)                5050      \n",
      "                                                                 \n",
      " dropout_3 (Dropout)         (None, 50)                0         \n",
      "                                                                 \n",
      " dense (Dense)               (None, 1)                 51        \n",
      "                                                                 \n",
      "=================================================================\n",
      "Total params: 17,801\n",
      "Trainable params: 17,801\n",
      "Non-trainable params: 0\n",
      "_________________________________________________________________\n",
      "Epoch 1/100\n",
      "239/239 [==============================] - 17s 53ms/step - loss: 0.0862\n",
      "Epoch 2/100\n",
      "239/239 [==============================] - 11s 48ms/step - loss: 0.0057\n",
      "Epoch 3/100\n",
      "239/239 [==============================] - 12s 51ms/step - loss: 0.0019\n",
      "Epoch 4/100\n",
      "239/239 [==============================] - 12s 51ms/step - loss: 9.6502e-04\n",
      "Epoch 5/100\n",
      "239/239 [==============================] - 15s 63ms/step - loss: 5.7160e-04\n",
      "Epoch 6/100\n",
      "239/239 [==============================] - 16s 67ms/step - loss: 4.3407e-04\n",
      "Epoch 7/100\n",
      "239/239 [==============================] - 19s 78ms/step - loss: 3.2982e-04\n",
      "Epoch 8/100\n",
      "239/239 [==============================] - 18s 74ms/step - loss: 2.6530e-04\n",
      "Epoch 9/100\n",
      "239/239 [==============================] - 15s 62ms/step - loss: 1.9784e-04\n",
      "Epoch 10/100\n",
      "239/239 [==============================] - 16s 67ms/step - loss: 1.8851e-04\n",
      "Epoch 11/100\n",
      "239/239 [==============================] - 17s 69ms/step - loss: 1.6047e-04\n",
      "Epoch 12/100\n",
      "239/239 [==============================] - 16s 68ms/step - loss: 1.3717e-04\n",
      "Epoch 13/100\n",
      "239/239 [==============================] - 19s 77ms/step - loss: 1.0754e-04\n",
      "Epoch 14/100\n",
      "239/239 [==============================] - 17s 73ms/step - loss: 1.0231e-04\n",
      "Epoch 15/100\n",
      "239/239 [==============================] - 18s 74ms/step - loss: 9.2888e-05\n",
      "Epoch 16/100\n",
      "239/239 [==============================] - 15s 63ms/step - loss: 8.7464e-05\n",
      "Epoch 17/100\n",
      "239/239 [==============================] - 14s 60ms/step - loss: 7.8558e-05\n",
      "Epoch 18/100\n",
      "239/239 [==============================] - 13s 53ms/step - loss: 7.3031e-05\n",
      "Epoch 19/100\n",
      "239/239 [==============================] - 13s 54ms/step - loss: 6.5405e-05\n",
      "Epoch 20/100\n",
      "239/239 [==============================] - 13s 53ms/step - loss: 5.6517e-05\n",
      "Epoch 21/100\n",
      "239/239 [==============================] - 13s 53ms/step - loss: 5.2979e-05\n",
      "Epoch 22/100\n",
      "239/239 [==============================] - 14s 60ms/step - loss: 4.9088e-05\n",
      "Epoch 23/100\n",
      "239/239 [==============================] - 13s 56ms/step - loss: 4.7243e-05\n",
      "Epoch 24/100\n",
      "239/239 [==============================] - 12s 52ms/step - loss: 4.5091e-05\n",
      "Epoch 25/100\n",
      "239/239 [==============================] - 13s 53ms/step - loss: 4.0753e-05\n",
      "Epoch 26/100\n",
      "239/239 [==============================] - 13s 55ms/step - loss: 3.6770e-05\n",
      "Epoch 27/100\n",
      "239/239 [==============================] - 13s 56ms/step - loss: 3.3939e-05\n",
      "Epoch 28/100\n",
      "239/239 [==============================] - 13s 56ms/step - loss: 3.3833e-05\n",
      "Epoch 29/100\n",
      "239/239 [==============================] - 13s 53ms/step - loss: 3.1264e-05\n",
      "Epoch 30/100\n",
      "239/239 [==============================] - 18s 74ms/step - loss: 3.2613e-05\n",
      "Epoch 31/100\n",
      "239/239 [==============================] - 15s 62ms/step - loss: 2.8638e-05\n",
      "Epoch 32/100\n",
      "239/239 [==============================] - 15s 65ms/step - loss: 2.8919e-05\n",
      "Epoch 33/100\n",
      "239/239 [==============================] - 14s 59ms/step - loss: 2.4061e-05\n",
      "Epoch 34/100\n",
      "239/239 [==============================] - 15s 65ms/step - loss: 2.8673e-05\n",
      "Epoch 35/100\n",
      "239/239 [==============================] - 15s 61ms/step - loss: 2.4968e-05\n",
      "Epoch 36/100\n",
      "239/239 [==============================] - 16s 67ms/step - loss: 2.1479e-05\n",
      "Epoch 37/100\n",
      "239/239 [==============================] - 15s 62ms/step - loss: 2.2610e-05\n",
      "Epoch 38/100\n",
      "239/239 [==============================] - 16s 68ms/step - loss: 2.0430e-05\n",
      "Epoch 39/100\n",
      "239/239 [==============================] - 17s 70ms/step - loss: 2.2676e-05\n",
      "Epoch 40/100\n",
      "239/239 [==============================] - 18s 75ms/step - loss: 1.8888e-05\n",
      "Epoch 41/100\n",
      "239/239 [==============================] - 15s 63ms/step - loss: 1.6727e-05\n",
      "Epoch 42/100\n",
      "239/239 [==============================] - 16s 67ms/step - loss: 1.5830e-05\n",
      "Epoch 43/100\n",
      "239/239 [==============================] - 16s 65ms/step - loss: 1.9225e-05\n",
      "Epoch 44/100\n",
      "239/239 [==============================] - 17s 72ms/step - loss: 1.5619e-05\n",
      "Epoch 45/100\n",
      "239/239 [==============================] - 15s 64ms/step - loss: 1.3342e-05\n",
      "Epoch 46/100\n",
      "239/239 [==============================] - 14s 58ms/step - loss: 1.3537e-05\n",
      "Epoch 47/100\n",
      "239/239 [==============================] - 14s 60ms/step - loss: 1.2606e-05\n",
      "Epoch 48/100\n",
      "239/239 [==============================] - 15s 64ms/step - loss: 1.4176e-05\n",
      "Epoch 49/100\n",
      "239/239 [==============================] - 18s 77ms/step - loss: 1.3919e-05\n",
      "Epoch 50/100\n",
      "239/239 [==============================] - 18s 76ms/step - loss: 1.0957e-05\n",
      "Epoch 51/100\n",
      "239/239 [==============================] - 18s 76ms/step - loss: 9.8592e-06\n",
      "Epoch 52/100\n",
      "239/239 [==============================] - 16s 69ms/step - loss: 9.9830e-06\n",
      "Epoch 53/100\n",
      "239/239 [==============================] - 14s 59ms/step - loss: 1.2987e-05\n",
      "Epoch 54/100\n",
      "239/239 [==============================] - 17s 72ms/step - loss: 9.8889e-06\n",
      "Epoch 55/100\n",
      "239/239 [==============================] - 16s 69ms/step - loss: 1.2162e-05\n",
      "Epoch 56/100\n",
      "239/239 [==============================] - 13s 56ms/step - loss: 8.5736e-06\n",
      "Epoch 57/100\n",
      "239/239 [==============================] - 14s 57ms/step - loss: 8.2360e-06\n",
      "Epoch 58/100\n",
      "239/239 [==============================] - 16s 66ms/step - loss: 7.1046e-06\n",
      "Epoch 59/100\n",
      "239/239 [==============================] - 15s 64ms/step - loss: 7.1777e-06\n",
      "Epoch 60/100\n",
      "239/239 [==============================] - 15s 62ms/step - loss: 8.2825e-06\n",
      "Epoch 61/100\n",
      "239/239 [==============================] - 16s 65ms/step - loss: 6.1238e-06\n",
      "Epoch 62/100\n",
      "239/239 [==============================] - 15s 61ms/step - loss: 6.2068e-06\n",
      "Epoch 63/100\n",
      "239/239 [==============================] - 14s 57ms/step - loss: 5.9269e-06\n",
      "Epoch 64/100\n",
      "239/239 [==============================] - 13s 54ms/step - loss: 5.5801e-06\n",
      "Epoch 65/100\n",
      "239/239 [==============================] - 14s 57ms/step - loss: 6.3860e-06\n",
      "Epoch 66/100\n",
      "239/239 [==============================] - 17s 70ms/step - loss: 6.7637e-06\n",
      "Epoch 67/100\n",
      "239/239 [==============================] - 14s 58ms/step - loss: 6.5441e-06\n",
      "Epoch 68/100\n",
      "239/239 [==============================] - 14s 57ms/step - loss: 5.0897e-06\n",
      "Epoch 69/100\n",
      "239/239 [==============================] - 17s 71ms/step - loss: 7.3215e-06\n",
      "Epoch 70/100\n",
      "239/239 [==============================] - 15s 62ms/step - loss: 6.9085e-06\n",
      "Epoch 71/100\n",
      "239/239 [==============================] - 19s 78ms/step - loss: 5.8562e-06\n",
      "Epoch 72/100\n",
      "239/239 [==============================] - 15s 61ms/step - loss: 5.8690e-06\n",
      "Epoch 73/100\n",
      "239/239 [==============================] - 15s 62ms/step - loss: 5.4061e-06\n",
      "Epoch 74/100\n",
      "239/239 [==============================] - 20s 82ms/step - loss: 7.1359e-06\n",
      "Epoch 75/100\n"
     ]
    },
    {
     "name": "stdout",
     "output_type": "stream",
     "text": [
      "239/239 [==============================] - 17s 72ms/step - loss: 5.9689e-06\n",
      "Epoch 76/100\n",
      "239/239 [==============================] - 18s 76ms/step - loss: 5.2615e-06\n",
      "Epoch 77/100\n",
      "239/239 [==============================] - 17s 72ms/step - loss: 6.1724e-06\n",
      "Epoch 78/100\n",
      "239/239 [==============================] - 17s 72ms/step - loss: 5.9078e-06\n",
      "Epoch 79/100\n",
      "239/239 [==============================] - 18s 73ms/step - loss: 7.8096e-06\n",
      "Epoch 80/100\n",
      "239/239 [==============================] - 14s 58ms/step - loss: 4.9694e-06\n",
      "Epoch 81/100\n",
      "239/239 [==============================] - 12s 52ms/step - loss: 4.2953e-06\n",
      "Epoch 82/100\n",
      "239/239 [==============================] - 13s 53ms/step - loss: 5.1632e-06\n",
      "Epoch 83/100\n",
      "239/239 [==============================] - 13s 53ms/step - loss: 5.8437e-06\n",
      "Epoch 84/100\n",
      "239/239 [==============================] - 17s 70ms/step - loss: 5.5865e-06\n",
      "Epoch 85/100\n",
      "239/239 [==============================] - 16s 67ms/step - loss: 5.2576e-06\n",
      "Epoch 86/100\n",
      "239/239 [==============================] - 16s 68ms/step - loss: 5.1481e-06\n",
      "Epoch 87/100\n",
      "239/239 [==============================] - 17s 71ms/step - loss: 6.7218e-06\n",
      "Epoch 88/100\n",
      "239/239 [==============================] - 17s 69ms/step - loss: 5.2870e-06\n",
      "Epoch 89/100\n",
      "239/239 [==============================] - 17s 70ms/step - loss: 4.7958e-06\n",
      "Epoch 90/100\n",
      "239/239 [==============================] - 18s 75ms/step - loss: 1.0524e-05\n",
      "Epoch 91/100\n",
      "239/239 [==============================] - 19s 80ms/step - loss: 5.0170e-06\n",
      "Epoch 92/100\n",
      "239/239 [==============================] - 15s 62ms/step - loss: 5.3143e-06\n",
      "Epoch 93/100\n",
      "239/239 [==============================] - 14s 60ms/step - loss: 5.9709e-06\n",
      "Epoch 94/100\n",
      "239/239 [==============================] - 19s 81ms/step - loss: 4.2170e-06\n",
      "Epoch 95/100\n",
      "239/239 [==============================] - 17s 71ms/step - loss: 5.9550e-06\n",
      "Epoch 96/100\n",
      "239/239 [==============================] - 18s 75ms/step - loss: 3.9768e-06\n",
      "Epoch 97/100\n",
      "239/239 [==============================] - 16s 67ms/step - loss: 5.1690e-06\n",
      "Epoch 98/100\n",
      "239/239 [==============================] - 15s 62ms/step - loss: 4.9341e-06\n",
      "Epoch 99/100\n",
      "239/239 [==============================] - 14s 60ms/step - loss: 6.1268e-06\n",
      "Epoch 100/100\n",
      "239/239 [==============================] - 14s 60ms/step - loss: 5.9321e-06\n"
     ]
    }
   ],
   "source": [
    "rnn_model = RNNMODEL(X_train = X_train , Y_train=y_train)"
   ]
  },
  {
   "cell_type": "code",
   "execution_count": 37,
   "id": "d91b78cd",
   "metadata": {},
   "outputs": [],
   "source": [
    "test_df = scaled_df[train_len-60: , :]\n",
    "y_test = dataset[train_len:, :]\n",
    "X_test = []\n",
    "\n",
    "for x in range(60, len(test_df)):\n",
    "    X_test.append(test_df[x-60:x, 0])  "
   ]
  },
  {
   "cell_type": "code",
   "execution_count": 38,
   "id": "b93895f2",
   "metadata": {},
   "outputs": [],
   "source": [
    "X_test = np.array(X_test)"
   ]
  },
  {
   "cell_type": "code",
   "execution_count": 39,
   "id": "689d7af4",
   "metadata": {},
   "outputs": [
    {
     "data": {
      "text/plain": [
       "(2568, 60)"
      ]
     },
     "execution_count": 39,
     "metadata": {},
     "output_type": "execute_result"
    }
   ],
   "source": [
    "X_test.shape "
   ]
  },
  {
   "cell_type": "code",
   "execution_count": 40,
   "id": "011d2854",
   "metadata": {},
   "outputs": [],
   "source": [
    "X_test= np.reshape(X_test, (X_test.shape[0], X_test.shape[1], 1))"
   ]
  },
  {
   "cell_type": "code",
   "execution_count": 41,
   "id": "2ee6cbca",
   "metadata": {},
   "outputs": [
    {
     "data": {
      "text/plain": [
       "(2568, 60, 1)"
      ]
     },
     "execution_count": 41,
     "metadata": {},
     "output_type": "execute_result"
    }
   ],
   "source": [
    "X_test.shape "
   ]
  },
  {
   "cell_type": "code",
   "execution_count": 42,
   "id": "4c3a8525",
   "metadata": {},
   "outputs": [
    {
     "name": "stdout",
     "output_type": "stream",
     "text": [
      "81/81 [==============================] - 2s 17ms/step\n"
     ]
    }
   ],
   "source": [
    "pred = rnn_model.predict(X_test)\n",
    "pred_stock = ms.inverse_transform(pred)"
   ]
  },
  {
   "cell_type": "code",
   "execution_count": 43,
   "id": "1889fe9c",
   "metadata": {},
   "outputs": [
    {
     "name": "stdout",
     "output_type": "stream",
     "text": [
      "RNN GOOGLE R2-Score of LSTM predictions for 0.039847432056402954\n",
      "RNN GOOGLE Mean Absolute Error: 17.488331361657828\n",
      "RNN GOOGLE Mean Squared Error: 1102.2626613627515\n",
      "RNN GOOGLE Mean Root Squared Error: 33.200341283829474\n"
     ]
    }
   ],
   "source": [
    "# evaluating the performance of the model\n",
    "print(\"RNN GOOGLE R2-Score of LSTM predictions for {0}\".format(r2_score(y_test, pred_stock)))\n",
    "print('RNN GOOGLE Mean Absolute Error:', mean_absolute_error(y_test, pred_stock))\n",
    "print('RNN GOOGLE Mean Squared Error:', mean_squared_error(y_test, pred_stock))\n",
    "print('RNN GOOGLE Mean Root Squared Error:', np.sqrt(mean_squared_error(y_test, pred_stock)))"
   ]
  },
  {
   "cell_type": "code",
   "execution_count": 297,
   "id": "720fb1f1",
   "metadata": {},
   "outputs": [
    {
     "name": "stderr",
     "output_type": "stream",
     "text": [
      "C:\\Users\\WRASH-~1\\AppData\\Local\\Temp/ipykernel_14884/358488486.py:3: SettingWithCopyWarning:\n",
      "\n",
      "\n",
      "A value is trying to be set on a copy of a slice from a DataFrame.\n",
      "Try using .loc[row_indexer,col_indexer] = value instead\n",
      "\n",
      "See the caveats in the documentation: https://pandas.pydata.org/pandas-docs/stable/user_guide/indexing.html#returning-a-view-versus-a-copy\n",
      "\n"
     ]
    }
   ],
   "source": [
    "trains = data[:train_len]\n",
    "valid = data[train_len:]\n",
    "valid['predictions']=pred_stock\n",
    "\n",
    "def plot_prediction(trainx, validx, title, subtitle, predictions):\n",
    "    plt.figure(figsize=(16,8))\n",
    "    plt.title(f'{title} Prediction With {subtitle}')\n",
    "    plt.xlabel('Date', fontsize=18)\n",
    "    plt.ylabel(f'{title} Stock price in ($)', fontsize=18)\n",
    "    plt.plot(trainx['Close'], label=f'{title} Predicted Price', linewidth=1.5)\n",
    "    plt.plot(validx[['Close', 'predictions']], label='Real Apple Price', linewidth=1.5)\n",
    "    plt.legend(['Train','Valid', 'Prediciton'], loc='lower right')\n",
    "    plt.show()"
   ]
  },
  {
   "cell_type": "code",
   "execution_count": 298,
   "id": "50334428",
   "metadata": {},
   "outputs": [
    {
     "data": {
      "image/png": "[encoded data removed]",
      "text/plain": [
       "<Figure size 1152x576 with 1 Axes>"
      ]
     },
     "metadata": {
      "needs_background": "light"
     },
     "output_type": "display_data"
    }
   ],
   "source": [
    "plot_prediction(trainx=trains, validx=valid, title=\"Google\", subtitle=\"RNN\", predictions=pred_stock)"
   ]
  },
  {
   "cell_type": "markdown",
   "id": "c6efccf6",
   "metadata": {},
   "source": [
    "# LSTM ANALYSIS"
   ]
  },
  {
   "cell_type": "code",
   "execution_count": 304,
   "id": "22341834",
   "metadata": {},
   "outputs": [
    {
     "name": "stdout",
     "output_type": "stream",
     "text": [
      "Model: \"sequential_13\"\n",
      "_________________________________________________________________\n",
      " Layer (type)                Output Shape              Param #   \n",
      "=================================================================\n",
      " lstm_10 (LSTM)              (None, 60, 50)            10400     \n",
      "                                                                 \n",
      " dropout_28 (Dropout)        (None, 60, 50)            0         \n",
      "                                                                 \n",
      " lstm_11 (LSTM)              (None, 50)                20200     \n",
      "                                                                 \n",
      " dropout_29 (Dropout)        (None, 50)                0         \n",
      "                                                                 \n",
      " dense_17 (Dense)            (None, 25)                1275      \n",
      "                                                                 \n",
      " dropout_30 (Dropout)        (None, 25)                0         \n",
      "                                                                 \n",
      " dense_18 (Dense)            (None, 1)                 26        \n",
      "                                                                 \n",
      "=================================================================\n",
      "Total params: 31,901\n",
      "Trainable params: 31,901\n",
      "Non-trainable params: 0\n",
      "_________________________________________________________________\n",
      "Epoch 1/100\n",
      "34/34 [==============================] - 6s 47ms/step - loss: 0.0185\n",
      "Epoch 2/100\n",
      "34/34 [==============================] - 2s 46ms/step - loss: 0.0050\n",
      "Epoch 3/100\n",
      "34/34 [==============================] - 2s 49ms/step - loss: 0.0043\n",
      "Epoch 4/100\n",
      "34/34 [==============================] - 2s 47ms/step - loss: 0.0041\n",
      "Epoch 5/100\n",
      "34/34 [==============================] - 2s 50ms/step - loss: 0.0035\n",
      "Epoch 6/100\n",
      "34/34 [==============================] - 2s 52ms/step - loss: 0.0037\n",
      "Epoch 7/100\n",
      "34/34 [==============================] - 2s 63ms/step - loss: 0.0029\n",
      "Epoch 8/100\n",
      "34/34 [==============================] - 2s 69ms/step - loss: 0.0028\n",
      "Epoch 9/100\n",
      "34/34 [==============================] - 2s 55ms/step - loss: 0.0026\n",
      "Epoch 10/100\n",
      "34/34 [==============================] - 2s 57ms/step - loss: 0.0028\n",
      "Epoch 11/100\n",
      "34/34 [==============================] - 2s 57ms/step - loss: 0.0024\n",
      "Epoch 12/100\n",
      "34/34 [==============================] - 2s 68ms/step - loss: 0.0022\n",
      "Epoch 13/100\n",
      "34/34 [==============================] - 2s 70ms/step - loss: 0.0024\n",
      "Epoch 14/100\n",
      "34/34 [==============================] - 2s 73ms/step - loss: 0.0022\n",
      "Epoch 15/100\n",
      "34/34 [==============================] - 2s 71ms/step - loss: 0.0021\n",
      "Epoch 16/100\n",
      "34/34 [==============================] - 2s 70ms/step - loss: 0.0018\n",
      "Epoch 17/100\n",
      "34/34 [==============================] - 3s 78ms/step - loss: 0.0019\n",
      "Epoch 18/100\n",
      "34/34 [==============================] - 2s 66ms/step - loss: 0.0018\n",
      "Epoch 19/100\n",
      "34/34 [==============================] - 2s 64ms/step - loss: 0.0018\n",
      "Epoch 20/100\n",
      "34/34 [==============================] - 2s 73ms/step - loss: 0.0018\n",
      "Epoch 21/100\n",
      "34/34 [==============================] - 2s 64ms/step - loss: 0.0017\n",
      "Epoch 22/100\n",
      "34/34 [==============================] - 2s 63ms/step - loss: 0.0017\n",
      "Epoch 23/100\n",
      "34/34 [==============================] - 3s 76ms/step - loss: 0.0016\n",
      "Epoch 24/100\n",
      "34/34 [==============================] - 2s 55ms/step - loss: 0.0016\n",
      "Epoch 25/100\n",
      "34/34 [==============================] - 3s 81ms/step - loss: 0.0016\n",
      "Epoch 26/100\n",
      "34/34 [==============================] - 3s 74ms/step - loss: 0.0015\n",
      "Epoch 27/100\n",
      "34/34 [==============================] - 2s 71ms/step - loss: 0.0016\n",
      "Epoch 28/100\n",
      "34/34 [==============================] - 2s 74ms/step - loss: 0.0015\n",
      "Epoch 29/100\n",
      "34/34 [==============================] - 2s 70ms/step - loss: 0.0015\n",
      "Epoch 30/100\n",
      "34/34 [==============================] - 2s 74ms/step - loss: 0.0015\n",
      "Epoch 31/100\n",
      "34/34 [==============================] - 2s 72ms/step - loss: 0.0015\n",
      "Epoch 32/100\n",
      "34/34 [==============================] - 2s 69ms/step - loss: 0.0013\n",
      "Epoch 33/100\n",
      "34/34 [==============================] - 2s 69ms/step - loss: 0.0014\n",
      "Epoch 34/100\n",
      "34/34 [==============================] - 3s 74ms/step - loss: 0.0012\n",
      "Epoch 35/100\n",
      "34/34 [==============================] - 3s 74ms/step - loss: 0.0013\n",
      "Epoch 36/100\n",
      "34/34 [==============================] - 2s 67ms/step - loss: 0.0014\n",
      "Epoch 37/100\n",
      "34/34 [==============================] - 2s 66ms/step - loss: 0.0014\n",
      "Epoch 38/100\n",
      "34/34 [==============================] - 2s 71ms/step - loss: 0.0013\n",
      "Epoch 39/100\n",
      "34/34 [==============================] - 2s 66ms/step - loss: 0.0012\n",
      "Epoch 40/100\n",
      "34/34 [==============================] - 2s 72ms/step - loss: 0.0012\n",
      "Epoch 41/100\n",
      "34/34 [==============================] - 2s 68ms/step - loss: 0.0011\n",
      "Epoch 42/100\n",
      "34/34 [==============================] - 3s 78ms/step - loss: 0.0013\n",
      "Epoch 43/100\n",
      "34/34 [==============================] - 2s 66ms/step - loss: 0.0012\n",
      "Epoch 44/100\n",
      "34/34 [==============================] - 2s 66ms/step - loss: 0.0011\n",
      "Epoch 45/100\n",
      "34/34 [==============================] - 2s 63ms/step - loss: 0.0011\n",
      "Epoch 46/100\n",
      "34/34 [==============================] - 3s 77ms/step - loss: 0.0011\n",
      "Epoch 47/100\n",
      "34/34 [==============================] - 3s 81ms/step - loss: 0.0011\n",
      "Epoch 48/100\n",
      "34/34 [==============================] - 2s 74ms/step - loss: 0.0010\n",
      "Epoch 49/100\n",
      "34/34 [==============================] - 3s 87ms/step - loss: 0.0011\n",
      "Epoch 50/100\n",
      "34/34 [==============================] - 2s 68ms/step - loss: 0.0012\n",
      "Epoch 51/100\n",
      "34/34 [==============================] - 2s 69ms/step - loss: 0.0011\n",
      "Epoch 52/100\n",
      "34/34 [==============================] - 2s 60ms/step - loss: 0.0011\n",
      "Epoch 53/100\n",
      "34/34 [==============================] - 2s 63ms/step - loss: 9.2493e-04\n",
      "Epoch 54/100\n",
      "34/34 [==============================] - 3s 81ms/step - loss: 9.6002e-04\n",
      "Epoch 55/100\n",
      "34/34 [==============================] - 2s 72ms/step - loss: 0.0010\n",
      "Epoch 56/100\n",
      "34/34 [==============================] - 2s 69ms/step - loss: 0.0010\n",
      "Epoch 57/100\n",
      "34/34 [==============================] - 2s 69ms/step - loss: 0.0010\n",
      "Epoch 58/100\n",
      "34/34 [==============================] - 3s 78ms/step - loss: 9.6384e-04\n",
      "Epoch 59/100\n",
      "34/34 [==============================] - 3s 81ms/step - loss: 9.5517e-04\n",
      "Epoch 60/100\n",
      "34/34 [==============================] - 2s 68ms/step - loss: 9.6520e-04\n",
      "Epoch 61/100\n",
      "34/34 [==============================] - 2s 69ms/step - loss: 0.0010\n",
      "Epoch 62/100\n",
      "34/34 [==============================] - 2s 65ms/step - loss: 0.0010\n",
      "Epoch 63/100\n",
      "34/34 [==============================] - 2s 70ms/step - loss: 9.6336e-04\n",
      "Epoch 64/100\n",
      "34/34 [==============================] - 3s 84ms/step - loss: 8.5855e-04\n",
      "Epoch 65/100\n",
      "34/34 [==============================] - 3s 88ms/step - loss: 8.7598e-04\n",
      "Epoch 66/100\n",
      "34/34 [==============================] - 3s 73ms/step - loss: 9.1375e-04\n",
      "Epoch 67/100\n",
      "34/34 [==============================] - 3s 74ms/step - loss: 9.0326e-04\n",
      "Epoch 68/100\n",
      "34/34 [==============================] - 2s 70ms/step - loss: 8.4806e-04\n",
      "Epoch 69/100\n",
      "34/34 [==============================] - 2s 65ms/step - loss: 8.4555e-04\n",
      "Epoch 70/100\n",
      "34/34 [==============================] - 2s 57ms/step - loss: 8.7077e-04\n",
      "Epoch 71/100\n",
      "34/34 [==============================] - 2s 59ms/step - loss: 9.5009e-04\n",
      "Epoch 72/100\n",
      "34/34 [==============================] - 2s 60ms/step - loss: 9.3596e-04\n",
      "Epoch 73/100\n",
      "34/34 [==============================] - 2s 72ms/step - loss: 9.0500e-04\n",
      "Epoch 74/100\n",
      "34/34 [==============================] - 3s 73ms/step - loss: 8.6881e-04\n",
      "Epoch 75/100\n",
      "34/34 [==============================] - 2s 67ms/step - loss: 8.9301e-04\n",
      "Epoch 76/100\n",
      "34/34 [==============================] - 2s 68ms/step - loss: 7.9379e-04\n",
      "Epoch 77/100\n",
      "34/34 [==============================] - 2s 68ms/step - loss: 9.8900e-04\n",
      "Epoch 78/100\n",
      "34/34 [==============================] - 2s 58ms/step - loss: 9.2369e-04\n",
      "Epoch 79/100\n",
      "34/34 [==============================] - 2s 65ms/step - loss: 9.9467e-04\n",
      "Epoch 80/100\n",
      "34/34 [==============================] - 2s 69ms/step - loss: 8.2437e-04\n",
      "Epoch 81/100\n",
      "34/34 [==============================] - 2s 71ms/step - loss: 8.3081e-04\n",
      "Epoch 82/100\n",
      "34/34 [==============================] - 2s 71ms/step - loss: 8.5000e-04\n",
      "Epoch 83/100\n",
      "34/34 [==============================] - 2s 70ms/step - loss: 8.1492e-04\n",
      "Epoch 84/100\n",
      "34/34 [==============================] - 2s 67ms/step - loss: 7.6300e-04\n",
      "Epoch 85/100\n",
      "34/34 [==============================] - 2s 73ms/step - loss: 8.3157e-04\n",
      "Epoch 86/100\n",
      "34/34 [==============================] - 2s 68ms/step - loss: 8.2097e-04\n",
      "Epoch 87/100\n",
      "34/34 [==============================] - 2s 71ms/step - loss: 8.3475e-04\n",
      "Epoch 88/100\n",
      "34/34 [==============================] - 3s 78ms/step - loss: 8.8884e-04\n",
      "Epoch 89/100\n",
      "34/34 [==============================] - 2s 72ms/step - loss: 8.2308e-04\n",
      "Epoch 90/100\n",
      "34/34 [==============================] - 2s 65ms/step - loss: 8.4538e-04\n",
      "Epoch 91/100\n",
      "34/34 [==============================] - 2s 68ms/step - loss: 8.1239e-04\n",
      "Epoch 92/100\n",
      "34/34 [==============================] - 2s 71ms/step - loss: 8.5429e-04\n",
      "Epoch 93/100\n",
      "34/34 [==============================] - 3s 76ms/step - loss: 7.8895e-04\n",
      "Epoch 94/100\n",
      "34/34 [==============================] - 2s 70ms/step - loss: 9.0006e-04\n",
      "Epoch 95/100\n",
      "34/34 [==============================] - 2s 65ms/step - loss: 8.0718e-04\n",
      "Epoch 96/100\n",
      "34/34 [==============================] - 2s 72ms/step - loss: 8.3590e-04\n",
      "Epoch 97/100\n",
      "34/34 [==============================] - 3s 75ms/step - loss: 8.3049e-04\n",
      "Epoch 98/100\n",
      "34/34 [==============================] - 3s 86ms/step - loss: 7.5418e-04\n",
      "Epoch 99/100\n",
      "34/34 [==============================] - 3s 76ms/step - loss: 8.3211e-04\n",
      "Epoch 100/100\n",
      "34/34 [==============================] - 2s 64ms/step - loss: 7.6959e-04\n"
     ]
    }
   ],
   "source": [
    "lstm_model = LSTMMODEL(X_train = X_train , Y_train=y_train)"
   ]
  },
  {
   "cell_type": "code",
   "execution_count": null,
   "id": "5bfd5d9e",
   "metadata": {},
   "outputs": [],
   "source": [
    "pred = lstm_model.predict(X_test)\n",
    "pred_stock = ms.inverse_transform(pred)"
   ]
  },
  {
   "cell_type": "code",
   "execution_count": null,
   "id": "090ccb3c",
   "metadata": {},
   "outputs": [],
   "source": [
    "# Evaluating Model's Performance\n",
    "print(\"LSTM GOOGLE R2-Score of LSTM predictions for {0}\".format(r2_score(y_test, pred_stock)))\n",
    "print('LSTM GOOGLE Mean Absolute Error:', mean_absolute_error(y_test, pred_stock))\n",
    "print('LSTM GOOGLE Mean Squared Error:', mean_squared_error(y_test, pred_stock))\n",
    "print('LSTM GOOGLE Mean Root Squared Error:', np.sqrt(mean_squared_error(y_test, pred_stock)))"
   ]
  },
  {
   "cell_type": "code",
   "execution_count": null,
   "id": "cfd3d94c",
   "metadata": {},
   "outputs": [],
   "source": [
    "trains = data[:train_len]\n",
    "valid = data[train_len:]\n",
    "valid['predictions']=pred_stock"
   ]
  },
  {
   "cell_type": "code",
   "execution_count": null,
   "id": "e2f08597",
   "metadata": {},
   "outputs": [],
   "source": [
    "plot_prediction(trainx=trains, validx=valid, title=\"Google\", subtitle=\"LSTM\", predictions=pred_stock)"
   ]
  }
 ],
 "metadata": {
  "kernelspec": {
   "display_name": "Python 3 (ipykernel)",
   "language": "python",
   "name": "python3"
  },
  "language_info": {
   "codemirror_mode": {
    "name": "ipython",
    "version": 3
   },
   "file_extension": ".py",
   "mimetype": "text/x-python",
   "name": "python",
   "nbconvert_exporter": "python",
   "pygments_lexer": "ipython3",
   "version": "3.9.7"
  }
 },
 "nbformat": 4,
 "nbformat_minor": 5
}
