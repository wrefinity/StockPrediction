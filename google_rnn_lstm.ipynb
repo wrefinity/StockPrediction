{
 "cells": [
  {
   "cell_type": "code",
   "execution_count": 245,
   "id": "1e97dc03",
   "metadata": {},
   "outputs": [],
   "source": [
    "# !pip install plotly tensorflow"
   ]
  },
  {
   "cell_type": "code",
   "execution_count": 246,
   "id": "9e8945b4",
   "metadata": {},
   "outputs": [
    {
     "data": {
      "text/html": [
       "        <script type=\"text/javascript\">\n",
       "        window.PlotlyConfig = {MathJaxConfig: 'local'};\n",
       "        if (window.MathJax && window.MathJax.Hub && window.MathJax.Hub.Config) {window.MathJax.Hub.Config({SVG: {font: \"STIX-Web\"}});}\n",
       "        if (typeof require !== 'undefined') {\n",
       "        require.undef(\"plotly\");\n",
       "        requirejs.config({\n",
       "            paths: {\n",
       "                'plotly': ['https://cdn.plot.ly/plotly-2.16.1.min']\n",
       "            }\n",
       "        });\n",
       "        require(['plotly'], function(Plotly) {\n",
       "            window._Plotly = Plotly;\n",
       "        });\n",
       "        }\n",
       "        </script>\n",
       "        "
      ]
     },
     "metadata": {},
     "output_type": "display_data"
    }
   ],
   "source": [
    "import pandas as pd \n",
    "import numpy as np\n",
    "import math\n",
    "from matplotlib import pyplot as plt\n",
    "import matplotlib.pyplot as plt\n",
    "from matplotlib.ticker import (MultipleLocator, FormatStrFormatter,\n",
    "                               AutoMinorLocator)\n",
    "import matplotlib.dates as mdates\n",
    "%matplotlib inline\n",
    "from sklearn.preprocessing import MinMaxScaler\n",
    "from sklearn.model_selection import train_test_split\n",
    "import seaborn as sns\n",
    "from sklearn.metrics import r2_score, mean_squared_error, mean_absolute_error\n",
    "\n",
    "\n",
    "from plotly.subplots import make_subplots\n",
    "import plotly.graph_objects as go\n",
    "from plotly.offline import init_notebook_mode\n",
    "init_notebook_mode(connected=True)\n",
    "\n",
    "from tensorflow.keras.models import Sequential\n",
    "from tensorflow.keras.layers import LSTM, Flatten, Dense, Dropout, SimpleRNN\n",
    "import tensorflow as tf\n",
    "import math"
   ]
  },
  {
   "cell_type": "code",
   "execution_count": 247,
   "id": "751ec696",
   "metadata": {},
   "outputs": [],
   "source": [
    "df_train = pd.read_csv(\"./Google/trainset.csv\")\n",
    "df_test = pd.read_csv(\"./Google/testset.csv\")"
   ]
  },
  {
   "cell_type": "code",
   "execution_count": 248,
   "id": "644a5f1a",
   "metadata": {},
   "outputs": [],
   "source": [
    "df = pd.concat([df_train, df_test ])"
   ]
  },
  {
   "cell_type": "code",
   "execution_count": 249,
   "id": "8c02942e",
   "metadata": {},
   "outputs": [
    {
     "data": {
      "text/html": [
       "<div>\n",
       "<style scoped>\n",
       "    .dataframe tbody tr th:only-of-type {\n",
       "        vertical-align: middle;\n",
       "    }\n",
       "\n",
       "    .dataframe tbody tr th {\n",
       "        vertical-align: top;\n",
       "    }\n",
       "\n",
       "    .dataframe thead th {\n",
       "        text-align: right;\n",
       "    }\n",
       "</style>\n",
       "<table border=\"1\" class=\"dataframe\">\n",
       "  <thead>\n",
       "    <tr style=\"text-align: right;\">\n",
       "      <th></th>\n",
       "      <th>Date</th>\n",
       "      <th>Open</th>\n",
       "      <th>High</th>\n",
       "      <th>Low</th>\n",
       "      <th>Close</th>\n",
       "      <th>Adj Close</th>\n",
       "      <th>Volume</th>\n",
       "    </tr>\n",
       "  </thead>\n",
       "  <tbody>\n",
       "    <tr>\n",
       "      <th>0</th>\n",
       "      <td>02/01/2013</td>\n",
       "      <td>357.385559</td>\n",
       "      <td>361.151062</td>\n",
       "      <td>355.959839</td>\n",
       "      <td>359.288177</td>\n",
       "      <td>359.288177</td>\n",
       "      <td>5115500</td>\n",
       "    </tr>\n",
       "    <tr>\n",
       "      <th>1</th>\n",
       "      <td>03/01/2013</td>\n",
       "      <td>360.122742</td>\n",
       "      <td>363.600128</td>\n",
       "      <td>358.031342</td>\n",
       "      <td>359.496826</td>\n",
       "      <td>359.496826</td>\n",
       "      <td>4666500</td>\n",
       "    </tr>\n",
       "    <tr>\n",
       "      <th>2</th>\n",
       "      <td>04/01/2013</td>\n",
       "      <td>362.313507</td>\n",
       "      <td>368.339294</td>\n",
       "      <td>361.488861</td>\n",
       "      <td>366.600616</td>\n",
       "      <td>366.600616</td>\n",
       "      <td>5562800</td>\n",
       "    </tr>\n",
       "    <tr>\n",
       "      <th>3</th>\n",
       "      <td>07/01/2013</td>\n",
       "      <td>365.348755</td>\n",
       "      <td>367.301056</td>\n",
       "      <td>362.929504</td>\n",
       "      <td>365.001007</td>\n",
       "      <td>365.001007</td>\n",
       "      <td>3332900</td>\n",
       "    </tr>\n",
       "    <tr>\n",
       "      <th>4</th>\n",
       "      <td>08/01/2013</td>\n",
       "      <td>365.393463</td>\n",
       "      <td>365.771027</td>\n",
       "      <td>359.874359</td>\n",
       "      <td>364.280701</td>\n",
       "      <td>364.280701</td>\n",
       "      <td>3373900</td>\n",
       "    </tr>\n",
       "    <tr>\n",
       "      <th>5</th>\n",
       "      <td>09/01/2013</td>\n",
       "      <td>363.769043</td>\n",
       "      <td>366.789398</td>\n",
       "      <td>361.945892</td>\n",
       "      <td>366.675140</td>\n",
       "      <td>366.675140</td>\n",
       "      <td>4075700</td>\n",
       "    </tr>\n",
       "    <tr>\n",
       "      <th>6</th>\n",
       "      <td>10/01/2013</td>\n",
       "      <td>369.014923</td>\n",
       "      <td>370.092896</td>\n",
       "      <td>364.380066</td>\n",
       "      <td>368.344269</td>\n",
       "      <td>368.344269</td>\n",
       "      <td>3695100</td>\n",
       "    </tr>\n",
       "    <tr>\n",
       "      <th>7</th>\n",
       "      <td>11/01/2013</td>\n",
       "      <td>368.602600</td>\n",
       "      <td>368.816193</td>\n",
       "      <td>365.771027</td>\n",
       "      <td>367.604095</td>\n",
       "      <td>367.604095</td>\n",
       "      <td>2587000</td>\n",
       "    </tr>\n",
       "    <tr>\n",
       "      <th>8</th>\n",
       "      <td>14/01/2013</td>\n",
       "      <td>366.118744</td>\n",
       "      <td>368.701935</td>\n",
       "      <td>358.841095</td>\n",
       "      <td>359.288177</td>\n",
       "      <td>359.288177</td>\n",
       "      <td>5765000</td>\n",
       "    </tr>\n",
       "    <tr>\n",
       "      <th>9</th>\n",
       "      <td>15/01/2013</td>\n",
       "      <td>357.340851</td>\n",
       "      <td>365.125214</td>\n",
       "      <td>353.749207</td>\n",
       "      <td>360.122742</td>\n",
       "      <td>360.122742</td>\n",
       "      <td>7906300</td>\n",
       "    </tr>\n",
       "  </tbody>\n",
       "</table>\n",
       "</div>"
      ],
      "text/plain": [
       "         Date        Open        High         Low       Close   Adj Close  \\\n",
       "0  02/01/2013  357.385559  361.151062  355.959839  359.288177  359.288177   \n",
       "1  03/01/2013  360.122742  363.600128  358.031342  359.496826  359.496826   \n",
       "2  04/01/2013  362.313507  368.339294  361.488861  366.600616  366.600616   \n",
       "3  07/01/2013  365.348755  367.301056  362.929504  365.001007  365.001007   \n",
       "4  08/01/2013  365.393463  365.771027  359.874359  364.280701  364.280701   \n",
       "5  09/01/2013  363.769043  366.789398  361.945892  366.675140  366.675140   \n",
       "6  10/01/2013  369.014923  370.092896  364.380066  368.344269  368.344269   \n",
       "7  11/01/2013  368.602600  368.816193  365.771027  367.604095  367.604095   \n",
       "8  14/01/2013  366.118744  368.701935  358.841095  359.288177  359.288177   \n",
       "9  15/01/2013  357.340851  365.125214  353.749207  360.122742  360.122742   \n",
       "\n",
       "    Volume  \n",
       "0  5115500  \n",
       "1  4666500  \n",
       "2  5562800  \n",
       "3  3332900  \n",
       "4  3373900  \n",
       "5  4075700  \n",
       "6  3695100  \n",
       "7  2587000  \n",
       "8  5765000  \n",
       "9  7906300  "
      ]
     },
     "execution_count": 249,
     "metadata": {},
     "output_type": "execute_result"
    }
   ],
   "source": [
    "df.head(10)"
   ]
  },
  {
   "cell_type": "code",
   "execution_count": 250,
   "id": "492147a0",
   "metadata": {},
   "outputs": [
    {
     "name": "stdout",
     "output_type": "stream",
     "text": [
      "<class 'pandas.core.frame.DataFrame'>\n",
      "Int64Index: 1509 entries, 0 to 124\n",
      "Data columns (total 7 columns):\n",
      " #   Column     Non-Null Count  Dtype  \n",
      "---  ------     --------------  -----  \n",
      " 0   Date       1509 non-null   object \n",
      " 1   Open       1509 non-null   float64\n",
      " 2   High       1509 non-null   float64\n",
      " 3   Low        1509 non-null   float64\n",
      " 4   Close      1509 non-null   float64\n",
      " 5   Adj Close  1509 non-null   float64\n",
      " 6   Volume     1509 non-null   int64  \n",
      "dtypes: float64(5), int64(1), object(1)\n",
      "memory usage: 94.3+ KB\n"
     ]
    }
   ],
   "source": [
    "df.info()"
   ]
  },
  {
   "cell_type": "code",
   "execution_count": 251,
   "id": "7db33b4e",
   "metadata": {},
   "outputs": [
    {
     "data": {
      "text/plain": [
       "False"
      ]
     },
     "execution_count": 251,
     "metadata": {},
     "output_type": "execute_result"
    }
   ],
   "source": [
    "df.isnull().sum().any()"
   ]
  },
  {
   "cell_type": "code",
   "execution_count": 252,
   "id": "d400ffd1",
   "metadata": {},
   "outputs": [
    {
     "data": {
      "text/html": [
       "<div>\n",
       "<style scoped>\n",
       "    .dataframe tbody tr th:only-of-type {\n",
       "        vertical-align: middle;\n",
       "    }\n",
       "\n",
       "    .dataframe tbody tr th {\n",
       "        vertical-align: top;\n",
       "    }\n",
       "\n",
       "    .dataframe thead th {\n",
       "        text-align: right;\n",
       "    }\n",
       "</style>\n",
       "<table border=\"1\" class=\"dataframe\">\n",
       "  <thead>\n",
       "    <tr style=\"text-align: right;\">\n",
       "      <th></th>\n",
       "      <th>Open</th>\n",
       "      <th>High</th>\n",
       "      <th>Low</th>\n",
       "      <th>Close</th>\n",
       "      <th>Adj Close</th>\n",
       "      <th>Volume</th>\n",
       "    </tr>\n",
       "  </thead>\n",
       "  <tbody>\n",
       "    <tr>\n",
       "      <th>count</th>\n",
       "      <td>1509.000000</td>\n",
       "      <td>1509.000000</td>\n",
       "      <td>1509.000000</td>\n",
       "      <td>1509.000000</td>\n",
       "      <td>1509.000000</td>\n",
       "      <td>1.509000e+03</td>\n",
       "    </tr>\n",
       "    <tr>\n",
       "      <th>mean</th>\n",
       "      <td>725.421046</td>\n",
       "      <td>731.328923</td>\n",
       "      <td>719.166879</td>\n",
       "      <td>725.453745</td>\n",
       "      <td>725.453745</td>\n",
       "      <td>2.309161e+06</td>\n",
       "    </tr>\n",
       "    <tr>\n",
       "      <th>std</th>\n",
       "      <td>229.684153</td>\n",
       "      <td>232.051036</td>\n",
       "      <td>227.618669</td>\n",
       "      <td>229.941489</td>\n",
       "      <td>229.941489</td>\n",
       "      <td>1.573016e+06</td>\n",
       "    </tr>\n",
       "    <tr>\n",
       "      <th>min</th>\n",
       "      <td>350.053253</td>\n",
       "      <td>350.391052</td>\n",
       "      <td>345.512787</td>\n",
       "      <td>349.164032</td>\n",
       "      <td>349.164032</td>\n",
       "      <td>7.900000e+03</td>\n",
       "    </tr>\n",
       "    <tr>\n",
       "      <th>25%</th>\n",
       "      <td>536.650024</td>\n",
       "      <td>540.000000</td>\n",
       "      <td>532.409973</td>\n",
       "      <td>536.690002</td>\n",
       "      <td>536.690002</td>\n",
       "      <td>1.327100e+06</td>\n",
       "    </tr>\n",
       "    <tr>\n",
       "      <th>50%</th>\n",
       "      <td>706.859985</td>\n",
       "      <td>713.239990</td>\n",
       "      <td>698.106995</td>\n",
       "      <td>705.840027</td>\n",
       "      <td>705.840027</td>\n",
       "      <td>1.776000e+06</td>\n",
       "    </tr>\n",
       "    <tr>\n",
       "      <th>75%</th>\n",
       "      <td>929.400024</td>\n",
       "      <td>933.479980</td>\n",
       "      <td>923.030029</td>\n",
       "      <td>929.080017</td>\n",
       "      <td>929.080017</td>\n",
       "      <td>2.771800e+06</td>\n",
       "    </tr>\n",
       "    <tr>\n",
       "      <th>max</th>\n",
       "      <td>1177.329956</td>\n",
       "      <td>1186.890015</td>\n",
       "      <td>1171.979980</td>\n",
       "      <td>1175.839966</td>\n",
       "      <td>1175.839966</td>\n",
       "      <td>2.328310e+07</td>\n",
       "    </tr>\n",
       "  </tbody>\n",
       "</table>\n",
       "</div>"
      ],
      "text/plain": [
       "              Open         High          Low        Close    Adj Close  \\\n",
       "count  1509.000000  1509.000000  1509.000000  1509.000000  1509.000000   \n",
       "mean    725.421046   731.328923   719.166879   725.453745   725.453745   \n",
       "std     229.684153   232.051036   227.618669   229.941489   229.941489   \n",
       "min     350.053253   350.391052   345.512787   349.164032   349.164032   \n",
       "25%     536.650024   540.000000   532.409973   536.690002   536.690002   \n",
       "50%     706.859985   713.239990   698.106995   705.840027   705.840027   \n",
       "75%     929.400024   933.479980   923.030029   929.080017   929.080017   \n",
       "max    1177.329956  1186.890015  1171.979980  1175.839966  1175.839966   \n",
       "\n",
       "             Volume  \n",
       "count  1.509000e+03  \n",
       "mean   2.309161e+06  \n",
       "std    1.573016e+06  \n",
       "min    7.900000e+03  \n",
       "25%    1.327100e+06  \n",
       "50%    1.776000e+06  \n",
       "75%    2.771800e+06  \n",
       "max    2.328310e+07  "
      ]
     },
     "execution_count": 252,
     "metadata": {},
     "output_type": "execute_result"
    }
   ],
   "source": [
    "df.describe()"
   ]
  },
  {
   "cell_type": "code",
   "execution_count": 253,
   "id": "c45a6def",
   "metadata": {},
   "outputs": [
    {
     "data": {
      "text/plain": [
       "(1509, 7)"
      ]
     },
     "execution_count": 253,
     "metadata": {},
     "output_type": "execute_result"
    }
   ],
   "source": [
    "df.shape"
   ]
  },
  {
   "cell_type": "code",
   "execution_count": 254,
   "id": "2a3da669",
   "metadata": {},
   "outputs": [
    {
     "data": {
      "text/plain": [
       "Date          object\n",
       "Open         float64\n",
       "High         float64\n",
       "Low          float64\n",
       "Close        float64\n",
       "Adj Close    float64\n",
       "Volume         int64\n",
       "dtype: object"
      ]
     },
     "execution_count": 254,
     "metadata": {},
     "output_type": "execute_result"
    }
   ],
   "source": [
    "df.dtypes"
   ]
  },
  {
   "cell_type": "code",
   "execution_count": 255,
   "id": "d6ee04d9",
   "metadata": {},
   "outputs": [
    {
     "data": {
      "text/html": [
       "<div>\n",
       "<style scoped>\n",
       "    .dataframe tbody tr th:only-of-type {\n",
       "        vertical-align: middle;\n",
       "    }\n",
       "\n",
       "    .dataframe tbody tr th {\n",
       "        vertical-align: top;\n",
       "    }\n",
       "\n",
       "    .dataframe thead th {\n",
       "        text-align: right;\n",
       "    }\n",
       "</style>\n",
       "<table border=\"1\" class=\"dataframe\">\n",
       "  <thead>\n",
       "    <tr style=\"text-align: right;\">\n",
       "      <th></th>\n",
       "      <th>Open</th>\n",
       "      <th>High</th>\n",
       "      <th>Low</th>\n",
       "      <th>Close</th>\n",
       "      <th>Adj Close</th>\n",
       "      <th>Volume</th>\n",
       "    </tr>\n",
       "    <tr>\n",
       "      <th>Date</th>\n",
       "      <th></th>\n",
       "      <th></th>\n",
       "      <th></th>\n",
       "      <th></th>\n",
       "      <th></th>\n",
       "      <th></th>\n",
       "    </tr>\n",
       "  </thead>\n",
       "  <tbody>\n",
       "    <tr>\n",
       "      <th>2013-01-02</th>\n",
       "      <td>357.385559</td>\n",
       "      <td>361.151062</td>\n",
       "      <td>355.959839</td>\n",
       "      <td>359.288177</td>\n",
       "      <td>359.288177</td>\n",
       "      <td>5115500</td>\n",
       "    </tr>\n",
       "    <tr>\n",
       "      <th>2013-01-03</th>\n",
       "      <td>360.122742</td>\n",
       "      <td>363.600128</td>\n",
       "      <td>358.031342</td>\n",
       "      <td>359.496826</td>\n",
       "      <td>359.496826</td>\n",
       "      <td>4666500</td>\n",
       "    </tr>\n",
       "    <tr>\n",
       "      <th>2013-01-04</th>\n",
       "      <td>362.313507</td>\n",
       "      <td>368.339294</td>\n",
       "      <td>361.488861</td>\n",
       "      <td>366.600616</td>\n",
       "      <td>366.600616</td>\n",
       "      <td>5562800</td>\n",
       "    </tr>\n",
       "    <tr>\n",
       "      <th>2013-01-07</th>\n",
       "      <td>365.348755</td>\n",
       "      <td>367.301056</td>\n",
       "      <td>362.929504</td>\n",
       "      <td>365.001007</td>\n",
       "      <td>365.001007</td>\n",
       "      <td>3332900</td>\n",
       "    </tr>\n",
       "    <tr>\n",
       "      <th>2013-01-08</th>\n",
       "      <td>365.393463</td>\n",
       "      <td>365.771027</td>\n",
       "      <td>359.874359</td>\n",
       "      <td>364.280701</td>\n",
       "      <td>364.280701</td>\n",
       "      <td>3373900</td>\n",
       "    </tr>\n",
       "    <tr>\n",
       "      <th>...</th>\n",
       "      <td>...</td>\n",
       "      <td>...</td>\n",
       "      <td>...</td>\n",
       "      <td>...</td>\n",
       "      <td>...</td>\n",
       "      <td>...</td>\n",
       "    </tr>\n",
       "    <tr>\n",
       "      <th>2018-06-25</th>\n",
       "      <td>1143.599976</td>\n",
       "      <td>1143.910034</td>\n",
       "      <td>1112.780029</td>\n",
       "      <td>1124.810059</td>\n",
       "      <td>1124.810059</td>\n",
       "      <td>2157300</td>\n",
       "    </tr>\n",
       "    <tr>\n",
       "      <th>2018-06-26</th>\n",
       "      <td>1128.000000</td>\n",
       "      <td>1133.209961</td>\n",
       "      <td>1116.659058</td>\n",
       "      <td>1118.459961</td>\n",
       "      <td>1118.459961</td>\n",
       "      <td>1563200</td>\n",
       "    </tr>\n",
       "    <tr>\n",
       "      <th>2018-06-27</th>\n",
       "      <td>1121.339966</td>\n",
       "      <td>1131.836060</td>\n",
       "      <td>1103.619995</td>\n",
       "      <td>1103.979980</td>\n",
       "      <td>1103.979980</td>\n",
       "      <td>1293900</td>\n",
       "    </tr>\n",
       "    <tr>\n",
       "      <th>2018-06-28</th>\n",
       "      <td>1102.089966</td>\n",
       "      <td>1122.310059</td>\n",
       "      <td>1096.010010</td>\n",
       "      <td>1114.219971</td>\n",
       "      <td>1114.219971</td>\n",
       "      <td>1072400</td>\n",
       "    </tr>\n",
       "    <tr>\n",
       "      <th>2018-06-29</th>\n",
       "      <td>1120.000000</td>\n",
       "      <td>1128.227051</td>\n",
       "      <td>1115.000000</td>\n",
       "      <td>1115.650024</td>\n",
       "      <td>1115.650024</td>\n",
       "      <td>1315100</td>\n",
       "    </tr>\n",
       "  </tbody>\n",
       "</table>\n",
       "<p>1509 rows × 6 columns</p>\n",
       "</div>"
      ],
      "text/plain": [
       "                   Open         High          Low        Close    Adj Close  \\\n",
       "Date                                                                          \n",
       "2013-01-02   357.385559   361.151062   355.959839   359.288177   359.288177   \n",
       "2013-01-03   360.122742   363.600128   358.031342   359.496826   359.496826   \n",
       "2013-01-04   362.313507   368.339294   361.488861   366.600616   366.600616   \n",
       "2013-01-07   365.348755   367.301056   362.929504   365.001007   365.001007   \n",
       "2013-01-08   365.393463   365.771027   359.874359   364.280701   364.280701   \n",
       "...                 ...          ...          ...          ...          ...   \n",
       "2018-06-25  1143.599976  1143.910034  1112.780029  1124.810059  1124.810059   \n",
       "2018-06-26  1128.000000  1133.209961  1116.659058  1118.459961  1118.459961   \n",
       "2018-06-27  1121.339966  1131.836060  1103.619995  1103.979980  1103.979980   \n",
       "2018-06-28  1102.089966  1122.310059  1096.010010  1114.219971  1114.219971   \n",
       "2018-06-29  1120.000000  1128.227051  1115.000000  1115.650024  1115.650024   \n",
       "\n",
       "             Volume  \n",
       "Date                 \n",
       "2013-01-02  5115500  \n",
       "2013-01-03  4666500  \n",
       "2013-01-04  5562800  \n",
       "2013-01-07  3332900  \n",
       "2013-01-08  3373900  \n",
       "...             ...  \n",
       "2018-06-25  2157300  \n",
       "2018-06-26  1563200  \n",
       "2018-06-27  1293900  \n",
       "2018-06-28  1072400  \n",
       "2018-06-29  1315100  \n",
       "\n",
       "[1509 rows x 6 columns]"
      ]
     },
     "execution_count": 255,
     "metadata": {},
     "output_type": "execute_result"
    }
   ],
   "source": [
    "df[\"Date\"]=pd.to_datetime(df.Date, dayfirst=True)\n",
    "df.set_index(\"Date\",inplace=True)\n",
    "df"
   ]
  },
  {
   "cell_type": "code",
   "execution_count": 256,
   "id": "903ad31d",
   "metadata": {},
   "outputs": [
    {
     "data": {
      "text/html": [
       "<div>\n",
       "<style scoped>\n",
       "    .dataframe tbody tr th:only-of-type {\n",
       "        vertical-align: middle;\n",
       "    }\n",
       "\n",
       "    .dataframe tbody tr th {\n",
       "        vertical-align: top;\n",
       "    }\n",
       "\n",
       "    .dataframe thead th {\n",
       "        text-align: right;\n",
       "    }\n",
       "</style>\n",
       "<table border=\"1\" class=\"dataframe\">\n",
       "  <thead>\n",
       "    <tr style=\"text-align: right;\">\n",
       "      <th></th>\n",
       "      <th>Open</th>\n",
       "      <th>High</th>\n",
       "      <th>Low</th>\n",
       "      <th>Close</th>\n",
       "      <th>Adj Close</th>\n",
       "      <th>Volume</th>\n",
       "    </tr>\n",
       "  </thead>\n",
       "  <tbody>\n",
       "    <tr>\n",
       "      <th>Open</th>\n",
       "      <td>1.000000</td>\n",
       "      <td>0.999701</td>\n",
       "      <td>0.999545</td>\n",
       "      <td>0.999193</td>\n",
       "      <td>0.999193</td>\n",
       "      <td>-0.431205</td>\n",
       "    </tr>\n",
       "    <tr>\n",
       "      <th>High</th>\n",
       "      <td>0.999701</td>\n",
       "      <td>1.000000</td>\n",
       "      <td>0.999500</td>\n",
       "      <td>0.999578</td>\n",
       "      <td>0.999578</td>\n",
       "      <td>-0.426777</td>\n",
       "    </tr>\n",
       "    <tr>\n",
       "      <th>Low</th>\n",
       "      <td>0.999545</td>\n",
       "      <td>0.999500</td>\n",
       "      <td>1.000000</td>\n",
       "      <td>0.999684</td>\n",
       "      <td>0.999684</td>\n",
       "      <td>-0.438024</td>\n",
       "    </tr>\n",
       "    <tr>\n",
       "      <th>Close</th>\n",
       "      <td>0.999193</td>\n",
       "      <td>0.999578</td>\n",
       "      <td>0.999684</td>\n",
       "      <td>1.000000</td>\n",
       "      <td>1.000000</td>\n",
       "      <td>-0.433302</td>\n",
       "    </tr>\n",
       "    <tr>\n",
       "      <th>Adj Close</th>\n",
       "      <td>0.999193</td>\n",
       "      <td>0.999578</td>\n",
       "      <td>0.999684</td>\n",
       "      <td>1.000000</td>\n",
       "      <td>1.000000</td>\n",
       "      <td>-0.433302</td>\n",
       "    </tr>\n",
       "    <tr>\n",
       "      <th>Volume</th>\n",
       "      <td>-0.431205</td>\n",
       "      <td>-0.426777</td>\n",
       "      <td>-0.438024</td>\n",
       "      <td>-0.433302</td>\n",
       "      <td>-0.433302</td>\n",
       "      <td>1.000000</td>\n",
       "    </tr>\n",
       "  </tbody>\n",
       "</table>\n",
       "</div>"
      ],
      "text/plain": [
       "               Open      High       Low     Close  Adj Close    Volume\n",
       "Open       1.000000  0.999701  0.999545  0.999193   0.999193 -0.431205\n",
       "High       0.999701  1.000000  0.999500  0.999578   0.999578 -0.426777\n",
       "Low        0.999545  0.999500  1.000000  0.999684   0.999684 -0.438024\n",
       "Close      0.999193  0.999578  0.999684  1.000000   1.000000 -0.433302\n",
       "Adj Close  0.999193  0.999578  0.999684  1.000000   1.000000 -0.433302\n",
       "Volume    -0.431205 -0.426777 -0.438024 -0.433302  -0.433302  1.000000"
      ]
     },
     "execution_count": 256,
     "metadata": {},
     "output_type": "execute_result"
    }
   ],
   "source": [
    "# Data Correlation: Relationship between columns\n",
    "df.corr()"
   ]
  },
  {
   "cell_type": "code",
   "execution_count": 257,
   "id": "939466b7",
   "metadata": {},
   "outputs": [
    {
     "data": {
      "image/png": "[encoded data removed]",
      "text/plain": [
       "<Figure size 360x360 with 2 Axes>"
      ]
     },
     "metadata": {
      "needs_background": "light"
     },
     "output_type": "display_data"
    }
   ],
   "source": [
    "# Visualization of correlation result with seaborn library heatmap.\n",
    "f, ax = plt.subplots(figsize = (5,5))\n",
    "sns.heatmap(df.corr(), annot = True, linewidths=0.5, linecolor = \"black\", fmt = \".4f\", ax = ax)\n",
    "plt.show()"
   ]
  },
  {
   "cell_type": "code",
   "execution_count": 258,
   "id": "06aad72f",
   "metadata": {},
   "outputs": [
    {
     "data": {
      "image/png": "[encoded data removed]",
      "text/plain": [
       "<Figure size 1152x720 with 1 Axes>"
      ]
     },
     "metadata": {
      "needs_background": "light"
     },
     "output_type": "display_data"
    }
   ],
   "source": [
    "plt.figure(figsize=(16,10))\n",
    "\n",
    "plt.title('Closing price history')\n",
    "plt.plot(df['Close'],label='prices', color='purple')\n",
    "# plt.plot(df_dp['Date'],df_dp['Close'],label='Max Temp.')\n",
    "plt.legend()\n",
    "####### Use the below functions #######\n",
    "dtFmt = mdates.DateFormatter('%Y-%b') # define the formatting\n",
    "plt.gca().xaxis.set_major_formatter(dtFmt) # apply the format to the desired axis\n",
    "plt.show()"
   ]
  },
  {
   "cell_type": "code",
   "execution_count": 259,
   "id": "6fee5e14",
   "metadata": {},
   "outputs": [
    {
     "data": {
      "text/plain": [
       "Index(['Open', 'High', 'Low', 'Close', 'Adj Close', 'Volume'], dtype='object')"
      ]
     },
     "execution_count": 259,
     "metadata": {},
     "output_type": "execute_result"
    }
   ],
   "source": [
    "df.columns"
   ]
  },
  {
   "cell_type": "code",
   "execution_count": 260,
   "id": "17fb5d95",
   "metadata": {},
   "outputs": [],
   "source": [
    "# dft = df.copy()\n",
    "col_to_keep = ['Close', 'High', 'Low', ]\n",
    "\n",
    "for col in df.columns:\n",
    "    if col not in col_to_keep:\n",
    "        del df[col]"
   ]
  },
  {
   "cell_type": "code",
   "execution_count": 261,
   "id": "a824249b",
   "metadata": {},
   "outputs": [
    {
     "data": {
      "text/plain": [
       "<AxesSubplot:title={'center':'Stock Prices'}, xlabel='Date'>"
      ]
     },
     "execution_count": 261,
     "metadata": {},
     "output_type": "execute_result"
    },
    {
     "data": {
      "image/png": "[encoded data removed]",
      "text/plain": [
       "<Figure size 432x288 with 3 Axes>"
      ]
     },
     "metadata": {
      "needs_background": "light"
     },
     "output_type": "display_data"
    },
    {
     "data": {
      "image/png": "[encoded data removed]",
      "text/plain": [
       "<Figure size 432x288 with 1 Axes>"
      ]
     },
     "metadata": {
      "needs_background": "light"
     },
     "output_type": "display_data"
    }
   ],
   "source": [
    "df.plot.line(subplots=True, title='Stock Prices')\n",
    "df.plot.line(title='Stock Prices')"
   ]
  },
  {
   "cell_type": "code",
   "execution_count": 262,
   "id": "0d2c8282",
   "metadata": {},
   "outputs": [],
   "source": [
    "data = df.filter(['Close'])\n",
    "dataset = data.values"
   ]
  },
  {
   "cell_type": "code",
   "execution_count": 263,
   "id": "2e480d9c",
   "metadata": {},
   "outputs": [
    {
     "data": {
      "text/plain": [
       "array([[ 359.288177],\n",
       "       [ 359.496826],\n",
       "       [ 366.600616],\n",
       "       ...,\n",
       "       [1103.97998 ],\n",
       "       [1114.219971],\n",
       "       [1115.650024]])"
      ]
     },
     "execution_count": 263,
     "metadata": {},
     "output_type": "execute_result"
    }
   ],
   "source": [
    "dataset"
   ]
  },
  {
   "cell_type": "code",
   "execution_count": 264,
   "id": "408aafd6",
   "metadata": {},
   "outputs": [
    {
     "data": {
      "text/plain": [
       "1132"
      ]
     },
     "execution_count": 264,
     "metadata": {},
     "output_type": "execute_result"
    }
   ],
   "source": [
    "# train_app_len = int(dfa.shape[0]*0.75)\n",
    "train_len = math.ceil(len(df)*.75)\n",
    "train_len"
   ]
  },
  {
   "cell_type": "code",
   "execution_count": 265,
   "id": "c159d984",
   "metadata": {},
   "outputs": [],
   "source": [
    "ms = MinMaxScaler(feature_range=(0,1))\n",
    "scaled_df = ms.fit_transform(dataset)"
   ]
  },
  {
   "cell_type": "code",
   "execution_count": 266,
   "id": "15858ab0",
   "metadata": {},
   "outputs": [],
   "source": [
    "# creating the training dataset\n",
    "train_df = scaled_df[0:train_len, :]\n",
    "X_train, y_train= [], []\n",
    "\n",
    "for x in range(60, len(train_df)):\n",
    "    X_train.append(train_df[x-60:x, 0])\n",
    "    y_train.append(train_df[x, 0])"
   ]
  },
  {
   "cell_type": "code",
   "execution_count": 267,
   "id": "e70efe57",
   "metadata": {},
   "outputs": [],
   "source": [
    "X_train=np.array(X_train)\n",
    "y_train=np.array(y_train)"
   ]
  },
  {
   "cell_type": "code",
   "execution_count": 268,
   "id": "4d0c6a9e",
   "metadata": {},
   "outputs": [],
   "source": [
    "X_train = np.reshape(X_train, (X_train.shape[0], X_train.shape[1], 1))"
   ]
  },
  {
   "cell_type": "code",
   "execution_count": 269,
   "id": "4316fae6",
   "metadata": {},
   "outputs": [
    {
     "data": {
      "text/plain": [
       "(1072, 60, 1)"
      ]
     },
     "execution_count": 269,
     "metadata": {},
     "output_type": "execute_result"
    }
   ],
   "source": [
    "X_train.shape"
   ]
  },
  {
   "cell_type": "code",
   "execution_count": 270,
   "id": "dbff336c",
   "metadata": {},
   "outputs": [],
   "source": [
    "def plot_scaled(dfd, title):\n",
    "    plt.plot(dfd)\n",
    "    plt.ylabel(\"Price\")\n",
    "    plt.xlabel(\"Time(Days)\")\n",
    "    plt.title(f\"{title} Stock Data\")\n",
    "    plt.show()"
   ]
  },
  {
   "cell_type": "code",
   "execution_count": 271,
   "id": "e03cde4c",
   "metadata": {},
   "outputs": [
    {
     "data": {
      "image/png": "[encoded data removed]",
      "text/plain": [
       "<Figure size 432x288 with 1 Axes>"
      ]
     },
     "metadata": {
      "needs_background": "light"
     },
     "output_type": "display_data"
    }
   ],
   "source": [
    "plot_scaled(train_df, title=\"Google\")"
   ]
  },
  {
   "cell_type": "markdown",
   "id": "ce9dfb68",
   "metadata": {},
   "source": [
    "# Model Definition"
   ]
  },
  {
   "cell_type": "code",
   "execution_count": 272,
   "id": "dd404532",
   "metadata": {},
   "outputs": [],
   "source": [
    "def RNNMODEL(X_train=[], Y_train=[]):\n",
    "    # Initialising the RNN\n",
    "    regressor = Sequential()\n",
    "\n",
    "    # Add the first RNN layer and some Dropout regularisation\n",
    "    regressor.add(SimpleRNN(units = 50, activation = \"tanh\", return_sequences = True, input_shape = (X_train.shape[1], 1)))\n",
    "    regressor.add(Dropout(0.2))\n",
    "\n",
    "    # Second RNN layer and some Dropout regularisation\n",
    "    regressor.add(SimpleRNN(units = 50, activation = \"tanh\", return_sequences = True))\n",
    "    regressor.add(Dropout(0.2))\n",
    "\n",
    "    # Third RNN layer and some Dropout regularisation\n",
    "    regressor.add(SimpleRNN(units = 50, activation = \"tanh\", return_sequences = True))\n",
    "    regressor.add(Dropout(0.2))\n",
    "\n",
    "    # Fourth RNN layer and some Dropout regularisation\n",
    "    regressor.add(SimpleRNN(units = 50))\n",
    "    regressor.add(Dropout(0.2))\n",
    "\n",
    "    # Add the output layer\n",
    "    regressor.add(Dense(units = 1))\n",
    "\n",
    "    # Compiling the RNN\n",
    "    regressor.compile(optimizer = \"adam\", loss = \"mean_squared_error\")\n",
    "    regressor.summary()\n",
    "\n",
    "    # Fitting the RNN to the training set\n",
    "    regressor.fit(X_train, Y_train, epochs = 100, batch_size = 32)\n",
    "    \n",
    "    return regressor"
   ]
  },
  {
   "cell_type": "code",
   "execution_count": 303,
   "id": "82376fcc",
   "metadata": {},
   "outputs": [],
   "source": [
    "def LSTMMODEL(X_train=[], Y_train=[]): \n",
    "    model = Sequential()\n",
    "    model.add(LSTM(50, return_sequences=True, input_shape=(X_train.shape[1], 1),  activation='tanh'))\n",
    "    model.add(Dropout(0.2))\n",
    "    model.add(LSTM(50,  return_sequences=False,  activation='tanh'))\n",
    "    model.add(Dropout(0.2))\n",
    "    model.add(Dense(25,  activation='tanh'))\n",
    "    model.add(Dropout(0.2))\n",
    "    model.add(Dense(1))\n",
    "    model.compile(optimizer = 'adam', loss = 'mean_squared_error')\n",
    "    model.summary()\n",
    "#     model.fit(X_tr, X_tr, epochs=1, batch_size=1)\n",
    "    \n",
    "    model.fit(X_train, Y_train, epochs=100, batch_size=32)\n",
    "    return model"
   ]
  },
  {
   "cell_type": "markdown",
   "id": "7adc029b",
   "metadata": {},
   "source": [
    "# RNN ANALYSIS"
   ]
  },
  {
   "cell_type": "code",
   "execution_count": 289,
   "id": "890fcdd9",
   "metadata": {},
   "outputs": [
    {
     "name": "stdout",
     "output_type": "stream",
     "text": [
      "Model: \"sequential_10\"\n",
      "_________________________________________________________________\n",
      " Layer (type)                Output Shape              Param #   \n",
      "=================================================================\n",
      " simple_rnn_24 (SimpleRNN)   (None, 60, 50)            2600      \n",
      "                                                                 \n",
      " dropout_24 (Dropout)        (None, 60, 50)            0         \n",
      "                                                                 \n",
      " simple_rnn_25 (SimpleRNN)   (None, 60, 50)            5050      \n",
      "                                                                 \n",
      " dropout_25 (Dropout)        (None, 60, 50)            0         \n",
      "                                                                 \n",
      " simple_rnn_26 (SimpleRNN)   (None, 60, 50)            5050      \n",
      "                                                                 \n",
      " dropout_26 (Dropout)        (None, 60, 50)            0         \n",
      "                                                                 \n",
      " simple_rnn_27 (SimpleRNN)   (None, 50)                5050      \n",
      "                                                                 \n",
      " dropout_27 (Dropout)        (None, 50)                0         \n",
      "                                                                 \n",
      " dense_12 (Dense)            (None, 1)                 51        \n",
      "                                                                 \n",
      "=================================================================\n",
      "Total params: 17,801\n",
      "Trainable params: 17,801\n",
      "Non-trainable params: 0\n",
      "_________________________________________________________________\n",
      "Epoch 1/100\n",
      "34/34 [==============================] - 6s 53ms/step - loss: 0.4252\n",
      "Epoch 2/100\n",
      "34/34 [==============================] - 2s 60ms/step - loss: 0.2793\n",
      "Epoch 3/100\n",
      "34/34 [==============================] - 2s 55ms/step - loss: 0.2365\n",
      "Epoch 4/100\n",
      "34/34 [==============================] - 2s 60ms/step - loss: 0.1872\n",
      "Epoch 5/100\n",
      "34/34 [==============================] - 2s 54ms/step - loss: 0.1615\n",
      "Epoch 6/100\n",
      "34/34 [==============================] - 2s 55ms/step - loss: 0.1139\n",
      "Epoch 7/100\n",
      "34/34 [==============================] - 2s 48ms/step - loss: 0.0916\n",
      "Epoch 8/100\n",
      "34/34 [==============================] - 2s 46ms/step - loss: 0.0733\n",
      "Epoch 9/100\n",
      "34/34 [==============================] - 2s 60ms/step - loss: 0.0600\n",
      "Epoch 10/100\n",
      "34/34 [==============================] - 2s 63ms/step - loss: 0.0594\n",
      "Epoch 11/100\n",
      "34/34 [==============================] - 2s 56ms/step - loss: 0.0460\n",
      "Epoch 12/100\n",
      "34/34 [==============================] - 2s 53ms/step - loss: 0.0397\n",
      "Epoch 13/100\n",
      "34/34 [==============================] - 2s 48ms/step - loss: 0.0334\n",
      "Epoch 14/100\n",
      "34/34 [==============================] - 2s 49ms/step - loss: 0.0318\n",
      "Epoch 15/100\n",
      "34/34 [==============================] - 2s 47ms/step - loss: 0.0276\n",
      "Epoch 16/100\n",
      "34/34 [==============================] - 2s 48ms/step - loss: 0.0256\n",
      "Epoch 17/100\n",
      "34/34 [==============================] - 2s 49ms/step - loss: 0.0208\n",
      "Epoch 18/100\n",
      "34/34 [==============================] - 2s 51ms/step - loss: 0.0198\n",
      "Epoch 19/100\n",
      "34/34 [==============================] - 2s 59ms/step - loss: 0.0189\n",
      "Epoch 20/100\n",
      "34/34 [==============================] - 2s 59ms/step - loss: 0.0162\n",
      "Epoch 21/100\n",
      "34/34 [==============================] - 2s 56ms/step - loss: 0.0163\n",
      "Epoch 22/100\n",
      "34/34 [==============================] - 2s 70ms/step - loss: 0.0132\n",
      "Epoch 23/100\n",
      "34/34 [==============================] - 2s 52ms/step - loss: 0.0127\n",
      "Epoch 24/100\n",
      "34/34 [==============================] - 2s 53ms/step - loss: 0.0108\n",
      "Epoch 25/100\n",
      "34/34 [==============================] - 2s 53ms/step - loss: 0.0102\n",
      "Epoch 26/100\n",
      "34/34 [==============================] - 2s 53ms/step - loss: 0.0094\n",
      "Epoch 27/100\n",
      "34/34 [==============================] - 2s 56ms/step - loss: 0.0093\n",
      "Epoch 28/100\n",
      "34/34 [==============================] - 2s 56ms/step - loss: 0.0088\n",
      "Epoch 29/100\n",
      "34/34 [==============================] - 2s 54ms/step - loss: 0.0084\n",
      "Epoch 30/100\n",
      "34/34 [==============================] - 2s 51ms/step - loss: 0.0075\n",
      "Epoch 31/100\n",
      "34/34 [==============================] - 2s 53ms/step - loss: 0.0071\n",
      "Epoch 32/100\n",
      "34/34 [==============================] - 2s 54ms/step - loss: 0.0057\n",
      "Epoch 33/100\n",
      "34/34 [==============================] - 2s 58ms/step - loss: 0.0067\n",
      "Epoch 34/100\n",
      "34/34 [==============================] - 2s 60ms/step - loss: 0.0055\n",
      "Epoch 35/100\n",
      "34/34 [==============================] - 2s 62ms/step - loss: 0.0057\n",
      "Epoch 36/100\n",
      "34/34 [==============================] - 2s 64ms/step - loss: 0.0048\n",
      "Epoch 37/100\n",
      "34/34 [==============================] - 2s 60ms/step - loss: 0.0051\n",
      "Epoch 38/100\n",
      "34/34 [==============================] - 2s 56ms/step - loss: 0.0052\n",
      "Epoch 39/100\n",
      "34/34 [==============================] - 2s 64ms/step - loss: 0.0045\n",
      "Epoch 40/100\n",
      "34/34 [==============================] - 2s 60ms/step - loss: 0.0044\n",
      "Epoch 41/100\n",
      "34/34 [==============================] - 2s 55ms/step - loss: 0.0035\n",
      "Epoch 42/100\n",
      "34/34 [==============================] - 2s 57ms/step - loss: 0.0038\n",
      "Epoch 43/100\n",
      "34/34 [==============================] - 2s 57ms/step - loss: 0.0036\n",
      "Epoch 44/100\n",
      "34/34 [==============================] - 2s 66ms/step - loss: 0.0037\n",
      "Epoch 45/100\n",
      "34/34 [==============================] - 2s 63ms/step - loss: 0.0034\n",
      "Epoch 46/100\n",
      "34/34 [==============================] - 2s 56ms/step - loss: 0.0028\n",
      "Epoch 47/100\n",
      "34/34 [==============================] - 2s 53ms/step - loss: 0.0031\n",
      "Epoch 48/100\n",
      "34/34 [==============================] - 2s 52ms/step - loss: 0.0030\n",
      "Epoch 49/100\n",
      "34/34 [==============================] - 2s 53ms/step - loss: 0.0032\n",
      "Epoch 50/100\n",
      "34/34 [==============================] - 2s 50ms/step - loss: 0.0031\n",
      "Epoch 51/100\n",
      "34/34 [==============================] - 2s 52ms/step - loss: 0.0033\n",
      "Epoch 52/100\n",
      "34/34 [==============================] - 2s 57ms/step - loss: 0.0027\n",
      "Epoch 53/100\n",
      "34/34 [==============================] - 2s 60ms/step - loss: 0.0025\n",
      "Epoch 54/100\n",
      "34/34 [==============================] - 2s 63ms/step - loss: 0.0026\n",
      "Epoch 55/100\n",
      "34/34 [==============================] - 2s 57ms/step - loss: 0.0025\n",
      "Epoch 56/100\n",
      "34/34 [==============================] - 3s 77ms/step - loss: 0.0023\n",
      "Epoch 57/100\n",
      "34/34 [==============================] - 3s 86ms/step - loss: 0.0020\n",
      "Epoch 58/100\n",
      "34/34 [==============================] - 2s 58ms/step - loss: 0.0025\n",
      "Epoch 59/100\n",
      "34/34 [==============================] - 2s 64ms/step - loss: 0.0025\n",
      "Epoch 60/100\n",
      "34/34 [==============================] - 2s 65ms/step - loss: 0.0022\n",
      "Epoch 61/100\n",
      "34/34 [==============================] - 2s 62ms/step - loss: 0.0021\n",
      "Epoch 62/100\n",
      "34/34 [==============================] - 2s 53ms/step - loss: 0.0022\n",
      "Epoch 63/100\n",
      "34/34 [==============================] - 2s 68ms/step - loss: 0.0022\n",
      "Epoch 64/100\n",
      "34/34 [==============================] - 2s 55ms/step - loss: 0.0022\n",
      "Epoch 65/100\n",
      "34/34 [==============================] - 3s 91ms/step - loss: 0.0024\n",
      "Epoch 66/100\n",
      "34/34 [==============================] - 2s 68ms/step - loss: 0.0019\n",
      "Epoch 67/100\n",
      "34/34 [==============================] - 2s 64ms/step - loss: 0.0019\n",
      "Epoch 68/100\n",
      "34/34 [==============================] - 2s 66ms/step - loss: 0.0018\n",
      "Epoch 69/100\n",
      "34/34 [==============================] - 2s 60ms/step - loss: 0.0020\n",
      "Epoch 70/100\n",
      "34/34 [==============================] - 2s 57ms/step - loss: 0.0020\n",
      "Epoch 71/100\n",
      "34/34 [==============================] - 2s 57ms/step - loss: 0.0019\n",
      "Epoch 72/100\n",
      "34/34 [==============================] - 2s 57ms/step - loss: 0.0020\n",
      "Epoch 73/100\n",
      "34/34 [==============================] - 2s 58ms/step - loss: 0.0019\n",
      "Epoch 74/100\n",
      "34/34 [==============================] - 2s 59ms/step - loss: 0.0016\n",
      "Epoch 75/100\n",
      "34/34 [==============================] - 2s 60ms/step - loss: 0.0017\n",
      "Epoch 76/100\n",
      "34/34 [==============================] - 3s 75ms/step - loss: 0.0016\n",
      "Epoch 77/100\n",
      "34/34 [==============================] - 2s 55ms/step - loss: 0.0016\n",
      "Epoch 78/100\n",
      "34/34 [==============================] - 2s 54ms/step - loss: 0.0016\n",
      "Epoch 79/100\n",
      "34/34 [==============================] - 3s 76ms/step - loss: 0.0016\n",
      "Epoch 80/100\n",
      "34/34 [==============================] - 2s 68ms/step - loss: 0.0015\n",
      "Epoch 81/100\n"
     ]
    },
    {
     "name": "stdout",
     "output_type": "stream",
     "text": [
      "34/34 [==============================] - 2s 71ms/step - loss: 0.0017\n",
      "Epoch 82/100\n",
      "34/34 [==============================] - 3s 77ms/step - loss: 0.0014\n",
      "Epoch 83/100\n",
      "34/34 [==============================] - 2s 63ms/step - loss: 0.0016\n",
      "Epoch 84/100\n",
      "34/34 [==============================] - 2s 62ms/step - loss: 0.0016\n",
      "Epoch 85/100\n",
      "34/34 [==============================] - 2s 67ms/step - loss: 0.0016\n",
      "Epoch 86/100\n",
      "34/34 [==============================] - 3s 80ms/step - loss: 0.0015\n",
      "Epoch 87/100\n",
      "34/34 [==============================] - 2s 61ms/step - loss: 0.0015\n",
      "Epoch 88/100\n",
      "34/34 [==============================] - 2s 66ms/step - loss: 0.0014\n",
      "Epoch 89/100\n",
      "34/34 [==============================] - 2s 65ms/step - loss: 0.0015\n",
      "Epoch 90/100\n",
      "34/34 [==============================] - 2s 60ms/step - loss: 0.0015\n",
      "Epoch 91/100\n",
      "34/34 [==============================] - 2s 57ms/step - loss: 0.0013\n",
      "Epoch 92/100\n",
      "34/34 [==============================] - 2s 58ms/step - loss: 0.0014\n",
      "Epoch 93/100\n",
      "34/34 [==============================] - 2s 55ms/step - loss: 0.0012\n",
      "Epoch 94/100\n",
      "34/34 [==============================] - 2s 55ms/step - loss: 0.0013\n",
      "Epoch 95/100\n",
      "34/34 [==============================] - 2s 58ms/step - loss: 0.0011\n",
      "Epoch 96/100\n",
      "34/34 [==============================] - 2s 60ms/step - loss: 0.0013\n",
      "Epoch 97/100\n",
      "34/34 [==============================] - 2s 70ms/step - loss: 0.0013\n",
      "Epoch 98/100\n",
      "34/34 [==============================] - 2s 63ms/step - loss: 0.0012\n",
      "Epoch 99/100\n",
      "34/34 [==============================] - 2s 56ms/step - loss: 0.0012\n",
      "Epoch 100/100\n",
      "34/34 [==============================] - 2s 60ms/step - loss: 0.0011\n"
     ]
    }
   ],
   "source": [
    "rnn_model = RNNMODEL(X_train = X_train , Y_train=y_train)"
   ]
  },
  {
   "cell_type": "code",
   "execution_count": 290,
   "id": "d91b78cd",
   "metadata": {},
   "outputs": [],
   "source": [
    "test_df = scaled_df[train_len-60: , :]\n",
    "y_test = dataset[train_len:, :]\n",
    "X_test = []\n",
    "\n",
    "for x in range(60, len(test_df)):\n",
    "    X_test.append(test_df[x-60:x, 0])  "
   ]
  },
  {
   "cell_type": "code",
   "execution_count": 291,
   "id": "b93895f2",
   "metadata": {},
   "outputs": [],
   "source": [
    "X_test = np.array(X_test)"
   ]
  },
  {
   "cell_type": "code",
   "execution_count": 292,
   "id": "689d7af4",
   "metadata": {},
   "outputs": [
    {
     "data": {
      "text/plain": [
       "(377, 60)"
      ]
     },
     "execution_count": 292,
     "metadata": {},
     "output_type": "execute_result"
    }
   ],
   "source": [
    "X_test.shape "
   ]
  },
  {
   "cell_type": "code",
   "execution_count": 293,
   "id": "011d2854",
   "metadata": {},
   "outputs": [],
   "source": [
    "X_test= np.reshape(X_test, (X_test.shape[0], X_test.shape[1], 1))"
   ]
  },
  {
   "cell_type": "code",
   "execution_count": 294,
   "id": "2ee6cbca",
   "metadata": {},
   "outputs": [
    {
     "data": {
      "text/plain": [
       "(377, 60, 1)"
      ]
     },
     "execution_count": 294,
     "metadata": {},
     "output_type": "execute_result"
    }
   ],
   "source": [
    "X_test.shape "
   ]
  },
  {
   "cell_type": "code",
   "execution_count": 295,
   "id": "4c3a8525",
   "metadata": {},
   "outputs": [
    {
     "name": "stdout",
     "output_type": "stream",
     "text": [
      "12/12 [==============================] - 1s 16ms/step\n"
     ]
    }
   ],
   "source": [
    "pred = rnn_model.predict(X_test)\n",
    "pred_stock = ms.inverse_transform(pred)"
   ]
  },
  {
   "cell_type": "code",
   "execution_count": 296,
   "id": "1889fe9c",
   "metadata": {},
   "outputs": [
    {
     "name": "stdout",
     "output_type": "stream",
     "text": [
      "RNN GOOGLE R2-Score of LSTM predictions for 0.6915875474373692\n",
      "RNN GOOGLE Mean Absolute Error: 34.48650942960462\n",
      "RNN GOOGLE Mean Squared Error: 1686.4573061708795\n",
      "RNN GOOGLE Mean Root Squared Error: 41.06649858669326\n"
     ]
    }
   ],
   "source": [
    "# evaluating the performance of the model\n",
    "print(\"RNN GOOGLE R2-Score of LSTM predictions for {0}\".format(r2_score(y_test, pred_stock)))\n",
    "print('RNN GOOGLE Mean Absolute Error:', mean_absolute_error(y_test, pred_stock))\n",
    "print('RNN GOOGLE Mean Squared Error:', mean_squared_error(y_test, pred_stock))\n",
    "print('RNN GOOGLE Mean Root Squared Error:', np.sqrt(mean_squared_error(y_test, pred_stock)))"
   ]
  },
  {
   "cell_type": "code",
   "execution_count": 297,
   "id": "720fb1f1",
   "metadata": {},
   "outputs": [
    {
     "name": "stderr",
     "output_type": "stream",
     "text": [
      "C:\\Users\\WRASH-~1\\AppData\\Local\\Temp/ipykernel_14884/358488486.py:3: SettingWithCopyWarning:\n",
      "\n",
      "\n",
      "A value is trying to be set on a copy of a slice from a DataFrame.\n",
      "Try using .loc[row_indexer,col_indexer] = value instead\n",
      "\n",
      "See the caveats in the documentation: https://pandas.pydata.org/pandas-docs/stable/user_guide/indexing.html#returning-a-view-versus-a-copy\n",
      "\n"
     ]
    }
   ],
   "source": [
    "trains = data[:train_len]\n",
    "valid = data[train_len:]\n",
    "valid['predictions']=pred_stock\n",
    "\n",
    "def plot_prediction(trainx, validx, title, subtitle, predictions):\n",
    "    plt.figure(figsize=(16,8))\n",
    "    plt.title(f'{title} Prediction With {subtitle}')\n",
    "    plt.xlabel('Date', fontsize=18)\n",
    "    plt.ylabel(f'{title} Stock price in ($)', fontsize=18)\n",
    "    plt.plot(trainx['Close'], label=f'{title} Predicted Price', linewidth=1.5)\n",
    "    plt.plot(validx[['Close', 'predictions']], label='Real Apple Price', linewidth=1.5)\n",
    "    plt.legend(['Train','Valid', 'Prediciton'], loc='lower right')\n",
    "    plt.show()"
   ]
  },
  {
   "cell_type": "code",
   "execution_count": 298,
   "id": "50334428",
   "metadata": {},
   "outputs": [
    {
     "data": {
      "image/png": "[encoded data removed]",
      "text/plain": [
       "<Figure size 1152x576 with 1 Axes>"
      ]
     },
     "metadata": {
      "needs_background": "light"
     },
     "output_type": "display_data"
    }
   ],
   "source": [
    "plot_prediction(trainx=trains, validx=valid, title=\"Google\", subtitle=\"RNN\", predictions=pred_stock)"
   ]
  },
  {
   "cell_type": "markdown",
   "id": "c6efccf6",
   "metadata": {},
   "source": [
    "# LSTM ANALYSIS"
   ]
  },
  {
   "cell_type": "code",
   "execution_count": 304,
   "id": "22341834",
   "metadata": {},
   "outputs": [
    {
     "name": "stdout",
     "output_type": "stream",
     "text": [
      "Model: \"sequential_13\"\n",
      "_________________________________________________________________\n",
      " Layer (type)                Output Shape              Param #   \n",
      "=================================================================\n",
      " lstm_10 (LSTM)              (None, 60, 50)            10400     \n",
      "                                                                 \n",
      " dropout_28 (Dropout)        (None, 60, 50)            0         \n",
      "                                                                 \n",
      " lstm_11 (LSTM)              (None, 50)                20200     \n",
      "                                                                 \n",
      " dropout_29 (Dropout)        (None, 50)                0         \n",
      "                                                                 \n",
      " dense_17 (Dense)            (None, 25)                1275      \n",
      "                                                                 \n",
      " dropout_30 (Dropout)        (None, 25)                0         \n",
      "                                                                 \n",
      " dense_18 (Dense)            (None, 1)                 26        \n",
      "                                                                 \n",
      "=================================================================\n",
      "Total params: 31,901\n",
      "Trainable params: 31,901\n",
      "Non-trainable params: 0\n",
      "_________________________________________________________________\n",
      "Epoch 1/100\n",
      "34/34 [==============================] - 6s 47ms/step - loss: 0.0185\n",
      "Epoch 2/100\n",
      "34/34 [==============================] - 2s 46ms/step - loss: 0.0050\n",
      "Epoch 3/100\n",
      "34/34 [==============================] - 2s 49ms/step - loss: 0.0043\n",
      "Epoch 4/100\n",
      "34/34 [==============================] - 2s 47ms/step - loss: 0.0041\n",
      "Epoch 5/100\n",
      "34/34 [==============================] - 2s 50ms/step - loss: 0.0035\n",
      "Epoch 6/100\n",
      "34/34 [==============================] - 2s 52ms/step - loss: 0.0037\n",
      "Epoch 7/100\n",
      "34/34 [==============================] - 2s 63ms/step - loss: 0.0029\n",
      "Epoch 8/100\n",
      "34/34 [==============================] - 2s 69ms/step - loss: 0.0028\n",
      "Epoch 9/100\n",
      "34/34 [==============================] - 2s 55ms/step - loss: 0.0026\n",
      "Epoch 10/100\n",
      "34/34 [==============================] - 2s 57ms/step - loss: 0.0028\n",
      "Epoch 11/100\n",
      "34/34 [==============================] - 2s 57ms/step - loss: 0.0024\n",
      "Epoch 12/100\n",
      "34/34 [==============================] - 2s 68ms/step - loss: 0.0022\n",
      "Epoch 13/100\n",
      "34/34 [==============================] - 2s 70ms/step - loss: 0.0024\n",
      "Epoch 14/100\n",
      "34/34 [==============================] - 2s 73ms/step - loss: 0.0022\n",
      "Epoch 15/100\n",
      "34/34 [==============================] - 2s 71ms/step - loss: 0.0021\n",
      "Epoch 16/100\n",
      "34/34 [==============================] - 2s 70ms/step - loss: 0.0018\n",
      "Epoch 17/100\n",
      "34/34 [==============================] - 3s 78ms/step - loss: 0.0019\n",
      "Epoch 18/100\n",
      "34/34 [==============================] - 2s 66ms/step - loss: 0.0018\n",
      "Epoch 19/100\n",
      "34/34 [==============================] - 2s 64ms/step - loss: 0.0018\n",
      "Epoch 20/100\n",
      "34/34 [==============================] - 2s 73ms/step - loss: 0.0018\n",
      "Epoch 21/100\n",
      "34/34 [==============================] - 2s 64ms/step - loss: 0.0017\n",
      "Epoch 22/100\n",
      "34/34 [==============================] - 2s 63ms/step - loss: 0.0017\n",
      "Epoch 23/100\n",
      "34/34 [==============================] - 3s 76ms/step - loss: 0.0016\n",
      "Epoch 24/100\n",
      "34/34 [==============================] - 2s 55ms/step - loss: 0.0016\n",
      "Epoch 25/100\n",
      "34/34 [==============================] - 3s 81ms/step - loss: 0.0016\n",
      "Epoch 26/100\n",
      "34/34 [==============================] - 3s 74ms/step - loss: 0.0015\n",
      "Epoch 27/100\n",
      "34/34 [==============================] - 2s 71ms/step - loss: 0.0016\n",
      "Epoch 28/100\n",
      "34/34 [==============================] - 2s 74ms/step - loss: 0.0015\n",
      "Epoch 29/100\n",
      "34/34 [==============================] - 2s 70ms/step - loss: 0.0015\n",
      "Epoch 30/100\n",
      "34/34 [==============================] - 2s 74ms/step - loss: 0.0015\n",
      "Epoch 31/100\n",
      "34/34 [==============================] - 2s 72ms/step - loss: 0.0015\n",
      "Epoch 32/100\n",
      "34/34 [==============================] - 2s 69ms/step - loss: 0.0013\n",
      "Epoch 33/100\n",
      "34/34 [==============================] - 2s 69ms/step - loss: 0.0014\n",
      "Epoch 34/100\n",
      "34/34 [==============================] - 3s 74ms/step - loss: 0.0012\n",
      "Epoch 35/100\n",
      "34/34 [==============================] - 3s 74ms/step - loss: 0.0013\n",
      "Epoch 36/100\n",
      "34/34 [==============================] - 2s 67ms/step - loss: 0.0014\n",
      "Epoch 37/100\n",
      "34/34 [==============================] - 2s 66ms/step - loss: 0.0014\n",
      "Epoch 38/100\n",
      "34/34 [==============================] - 2s 71ms/step - loss: 0.0013\n",
      "Epoch 39/100\n",
      "34/34 [==============================] - 2s 66ms/step - loss: 0.0012\n",
      "Epoch 40/100\n",
      "34/34 [==============================] - 2s 72ms/step - loss: 0.0012\n",
      "Epoch 41/100\n",
      "34/34 [==============================] - 2s 68ms/step - loss: 0.0011\n",
      "Epoch 42/100\n",
      "34/34 [==============================] - 3s 78ms/step - loss: 0.0013\n",
      "Epoch 43/100\n",
      "34/34 [==============================] - 2s 66ms/step - loss: 0.0012\n",
      "Epoch 44/100\n",
      "34/34 [==============================] - 2s 66ms/step - loss: 0.0011\n",
      "Epoch 45/100\n",
      "34/34 [==============================] - 2s 63ms/step - loss: 0.0011\n",
      "Epoch 46/100\n",
      "34/34 [==============================] - 3s 77ms/step - loss: 0.0011\n",
      "Epoch 47/100\n",
      "34/34 [==============================] - 3s 81ms/step - loss: 0.0011\n",
      "Epoch 48/100\n",
      "34/34 [==============================] - 2s 74ms/step - loss: 0.0010\n",
      "Epoch 49/100\n",
      "34/34 [==============================] - 3s 87ms/step - loss: 0.0011\n",
      "Epoch 50/100\n",
      "34/34 [==============================] - 2s 68ms/step - loss: 0.0012\n",
      "Epoch 51/100\n",
      "34/34 [==============================] - 2s 69ms/step - loss: 0.0011\n",
      "Epoch 52/100\n",
      "34/34 [==============================] - 2s 60ms/step - loss: 0.0011\n",
      "Epoch 53/100\n",
      "34/34 [==============================] - 2s 63ms/step - loss: 9.2493e-04\n",
      "Epoch 54/100\n",
      "34/34 [==============================] - 3s 81ms/step - loss: 9.6002e-04\n",
      "Epoch 55/100\n",
      "34/34 [==============================] - 2s 72ms/step - loss: 0.0010\n",
      "Epoch 56/100\n",
      "34/34 [==============================] - 2s 69ms/step - loss: 0.0010\n",
      "Epoch 57/100\n",
      "34/34 [==============================] - 2s 69ms/step - loss: 0.0010\n",
      "Epoch 58/100\n",
      "34/34 [==============================] - 3s 78ms/step - loss: 9.6384e-04\n",
      "Epoch 59/100\n",
      "34/34 [==============================] - 3s 81ms/step - loss: 9.5517e-04\n",
      "Epoch 60/100\n",
      "34/34 [==============================] - 2s 68ms/step - loss: 9.6520e-04\n",
      "Epoch 61/100\n",
      "34/34 [==============================] - 2s 69ms/step - loss: 0.0010\n",
      "Epoch 62/100\n",
      "34/34 [==============================] - 2s 65ms/step - loss: 0.0010\n",
      "Epoch 63/100\n",
      "34/34 [==============================] - 2s 70ms/step - loss: 9.6336e-04\n",
      "Epoch 64/100\n",
      "34/34 [==============================] - 3s 84ms/step - loss: 8.5855e-04\n",
      "Epoch 65/100\n",
      "34/34 [==============================] - 3s 88ms/step - loss: 8.7598e-04\n",
      "Epoch 66/100\n",
      "34/34 [==============================] - 3s 73ms/step - loss: 9.1375e-04\n",
      "Epoch 67/100\n",
      "34/34 [==============================] - 3s 74ms/step - loss: 9.0326e-04\n",
      "Epoch 68/100\n",
      "34/34 [==============================] - 2s 70ms/step - loss: 8.4806e-04\n",
      "Epoch 69/100\n",
      "34/34 [==============================] - 2s 65ms/step - loss: 8.4555e-04\n",
      "Epoch 70/100\n",
      "34/34 [==============================] - 2s 57ms/step - loss: 8.7077e-04\n",
      "Epoch 71/100\n",
      "34/34 [==============================] - 2s 59ms/step - loss: 9.5009e-04\n",
      "Epoch 72/100\n",
      "34/34 [==============================] - 2s 60ms/step - loss: 9.3596e-04\n",
      "Epoch 73/100\n",
      "34/34 [==============================] - 2s 72ms/step - loss: 9.0500e-04\n",
      "Epoch 74/100\n",
      "34/34 [==============================] - 3s 73ms/step - loss: 8.6881e-04\n",
      "Epoch 75/100\n",
      "34/34 [==============================] - 2s 67ms/step - loss: 8.9301e-04\n",
      "Epoch 76/100\n",
      "34/34 [==============================] - 2s 68ms/step - loss: 7.9379e-04\n",
      "Epoch 77/100\n",
      "34/34 [==============================] - 2s 68ms/step - loss: 9.8900e-04\n",
      "Epoch 78/100\n",
      "34/34 [==============================] - 2s 58ms/step - loss: 9.2369e-04\n",
      "Epoch 79/100\n",
      "34/34 [==============================] - 2s 65ms/step - loss: 9.9467e-04\n",
      "Epoch 80/100\n",
      "34/34 [==============================] - 2s 69ms/step - loss: 8.2437e-04\n",
      "Epoch 81/100\n",
      "34/34 [==============================] - 2s 71ms/step - loss: 8.3081e-04\n",
      "Epoch 82/100\n",
      "34/34 [==============================] - 2s 71ms/step - loss: 8.5000e-04\n",
      "Epoch 83/100\n"
     ]
    },
    {
     "name": "stdout",
     "output_type": "stream",
     "text": [
      "34/34 [==============================] - 2s 70ms/step - loss: 8.1492e-04\n",
      "Epoch 84/100\n",
      "34/34 [==============================] - 2s 67ms/step - loss: 7.6300e-04\n",
      "Epoch 85/100\n",
      "34/34 [==============================] - 2s 73ms/step - loss: 8.3157e-04\n",
      "Epoch 86/100\n",
      "34/34 [==============================] - 2s 68ms/step - loss: 8.2097e-04\n",
      "Epoch 87/100\n",
      "34/34 [==============================] - 2s 71ms/step - loss: 8.3475e-04\n",
      "Epoch 88/100\n",
      "34/34 [==============================] - 3s 78ms/step - loss: 8.8884e-04\n",
      "Epoch 89/100\n",
      "34/34 [==============================] - 2s 72ms/step - loss: 8.2308e-04\n",
      "Epoch 90/100\n",
      "34/34 [==============================] - 2s 65ms/step - loss: 8.4538e-04\n",
      "Epoch 91/100\n",
      "34/34 [==============================] - 2s 68ms/step - loss: 8.1239e-04\n",
      "Epoch 92/100\n",
      "34/34 [==============================] - 2s 71ms/step - loss: 8.5429e-04\n",
      "Epoch 93/100\n",
      "34/34 [==============================] - 3s 76ms/step - loss: 7.8895e-04\n",
      "Epoch 94/100\n",
      "34/34 [==============================] - 2s 70ms/step - loss: 9.0006e-04\n",
      "Epoch 95/100\n",
      "34/34 [==============================] - 2s 65ms/step - loss: 8.0718e-04\n",
      "Epoch 96/100\n",
      "34/34 [==============================] - 2s 72ms/step - loss: 8.3590e-04\n",
      "Epoch 97/100\n",
      "34/34 [==============================] - 3s 75ms/step - loss: 8.3049e-04\n",
      "Epoch 98/100\n",
      "34/34 [==============================] - 3s 86ms/step - loss: 7.5418e-04\n",
      "Epoch 99/100\n",
      "34/34 [==============================] - 3s 76ms/step - loss: 8.3211e-04\n",
      "Epoch 100/100\n",
      "34/34 [==============================] - 2s 64ms/step - loss: 7.6959e-04\n"
     ]
    }
   ],
   "source": [
    "lstm_model = LSTMMODEL(X_train = X_train , Y_train=y_train)"
   ]
  },
  {
   "cell_type": "code",
   "execution_count": null,
   "id": "5bfd5d9e",
   "metadata": {},
   "outputs": [],
   "source": [
    "pred = lstm_model.predict(X_test)\n",
    "pred_stock = ms.inverse_transform(pred)"
   ]
  },
  {
   "cell_type": "code",
   "execution_count": null,
   "id": "090ccb3c",
   "metadata": {},
   "outputs": [],
   "source": [
    "# Evaluating Model's Performance\n",
    "print(\"LSTM GOOGLE R2-Score of LSTM predictions for {0}\".format(r2_score(y_test, pred_stock)))\n",
    "print('LSTM GOOGLE Mean Absolute Error:', mean_absolute_error(y_test, pred_stock))\n",
    "print('LSTM GOOGLE Mean Squared Error:', mean_squared_error(y_test, pred_stock))\n",
    "print('LSTM GOOGLE Mean Root Squared Error:', np.sqrt(mean_squared_error(y_test, pred_stock)))"
   ]
  },
  {
   "cell_type": "code",
   "execution_count": null,
   "id": "cfd3d94c",
   "metadata": {},
   "outputs": [],
   "source": [
    "trains = data[:train_len]\n",
    "valid = data[train_len:]\n",
    "valid['predictions']=pred_stock"
   ]
  },
  {
   "cell_type": "code",
   "execution_count": null,
   "id": "e2f08597",
   "metadata": {},
   "outputs": [],
   "source": [
    "plot_prediction(trainx=trains, validx=valid, title=\"Google\", subtitle=\"LSTM\", predictions=pred_stock)"
   ]
  }
 ],
 "metadata": {
  "kernelspec": {
   "display_name": "Python 3 (ipykernel)",
   "language": "python",
   "name": "python3"
  },
  "language_info": {
   "codemirror_mode": {
    "name": "ipython",
    "version": 3
   },
   "file_extension": ".py",
   "mimetype": "text/x-python",
   "name": "python",
   "nbconvert_exporter": "python",
   "pygments_lexer": "ipython3",
   "version": "3.9.7"
  }
 },
 "nbformat": 4,
 "nbformat_minor": 5
}
